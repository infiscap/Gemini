{
  "cells": [
    {
      "cell_type": "code",
      "id": "699XjD3Kj3e3pHPqeGCZvCBq",
      "metadata": {
        "tags": [],
        "id": "699XjD3Kj3e3pHPqeGCZvCBq",
        "executionInfo": {
          "status": "ok",
          "timestamp": 1737103277937,
          "user_tz": -540,
          "elapsed": 3,
          "user": {
            "displayName": "",
            "userId": ""
          }
        }
      },
      "source": [
        "import csv\n",
        "\n",
        "with open('game_dic.tsv', 'w', encoding='utf-8', newline='') as f:\n",
        "  tw = csv.writer(f, delimiter='\\t')\n",
        "  tw.writerow(['길마', 'guild master'])\n",
        "  tw.writerow(['gg', 'good game'])\n",
        "  tw.writerow(['지지', 'good game'])\n",
        "  tw.writerow(['용계', 'valley of dragon'])"
      ],
      "execution_count": 23,
      "outputs": []
    },
    {
      "cell_type": "code",
      "source": [
        "!gsutil cp game_dic.tsv gs://jins62/game_dic.tsv\n",
        "!gsutil ls gs://jins62"
      ],
      "metadata": {
        "colab": {
          "base_uri": "https://localhost:8080/"
        },
        "id": "IAmeRX25UDgP",
        "executionInfo": {
          "status": "ok",
          "timestamp": 1737103288811,
          "user_tz": -540,
          "elapsed": 8868,
          "user": {
            "displayName": "",
            "userId": ""
          }
        },
        "outputId": "57661bfd-3107-4be3-86f5-f262a3c44457"
      },
      "id": "IAmeRX25UDgP",
      "execution_count": 24,
      "outputs": [
        {
          "output_type": "stream",
          "name": "stdout",
          "text": [
            "Copying file://game_dic.tsv [Content-Type=text/tab-separated-values]...\n",
            "-\n",
            "Operation completed over 1 objects/78.0 B.                                       \n",
            "gs://jins62/2024-06-12T05:38:10+00:00_76700a\n",
            "gs://jins62/2024-06-12T05:38:11+00:00_ddcb5b\n",
            "gs://jins62/2024-06-12T05:38:15+00:00_4cd6e5\n",
            "gs://jins62/2024-06-12T05:38:16+00:00_df6d07\n",
            "gs://jins62/README.ipynb\n",
            "gs://jins62/game_dic.tsv\n",
            "gs://jins62/generated_workspace_file.json\n",
            "gs://jins62/gws_log - activity.csv\n",
            "gs://jins62/poc.jpg\n",
            "gs://jins62/ai-platform/\n",
            "gs://jins62/audio-files/\n",
            "gs://jins62/eager/\n",
            "gs://jins62/estimators/\n",
            "gs://jins62/explainable_ai/\n",
            "gs://jins62/fast-and-lean-data-science/\n",
            "gs://jins62/images/\n",
            "gs://jins62/keras/\n",
            "gs://jins62/load_data/\n",
            "gs://jins62/machine_learning_deepdive/\n",
            "gs://jins62/python-docs-samples/\n",
            "gs://jins62/representation/\n",
            "gs://jins62/sequences/\n",
            "gs://jins62/tf2_course/\n",
            "gs://jins62/transcripts/\n",
            "gs://jins62/vertex_samples/\n"
          ]
        }
      ]
    },
    {
      "cell_type": "code",
      "source": [
        "from google.cloud import translate\n",
        "\n",
        "client = translate.TranslationServiceClient()"
      ],
      "metadata": {
        "id": "Ow8kJt_dURNO",
        "executionInfo": {
          "status": "ok",
          "timestamp": 1737103291957,
          "user_tz": -540,
          "elapsed": 482,
          "user": {
            "displayName": "",
            "userId": ""
          }
        }
      },
      "id": "Ow8kJt_dURNO",
      "execution_count": 25,
      "outputs": []
    },
    {
      "cell_type": "code",
      "source": [
        "PROJECT_ID=!gcloud config get-value project\n",
        "PROJECT_ID=PROJECT_ID[0]\n",
        "LOCATION=\"us-central1\""
      ],
      "metadata": {
        "id": "Tc9dbsEEWF2_",
        "executionInfo": {
          "status": "ok",
          "timestamp": 1737103293455,
          "user_tz": -540,
          "elapsed": 1009,
          "user": {
            "displayName": "",
            "userId": ""
          }
        }
      },
      "id": "Tc9dbsEEWF2_",
      "execution_count": 26,
      "outputs": []
    },
    {
      "cell_type": "code",
      "source": [
        "def translate_text(\n",
        "    txt: str,\n",
        "    project_id: str = PROJECT_ID,\n",
        "    location: str = LOCATION,\n",
        "    src_lang: str = 'ko',\n",
        "    dest_lang: str = 'en',\n",
        "    glossary: str | None = None\n",
        ") -> translate.TranslateTextResponse:\n",
        "  parent = client.common_location_path(project_id, location)\n",
        "  glossary_config = (\n",
        "      translate.TranslateTextGlossaryConfig(glossary=glossary)\n",
        "      if glossary\n",
        "      else None\n",
        "  )\n",
        "  request = translate.TranslateTextRequest(\n",
        "      parent=parent,\n",
        "      contents=[txt],\n",
        "      source_language_code=src_lang,\n",
        "      target_language_code=dest_lang,\n",
        "      glossary_config=glossary_config\n",
        "  )\n",
        "  return client.translate_text(request = request)"
      ],
      "metadata": {
        "id": "4IjBNfV1UroN",
        "executionInfo": {
          "status": "ok",
          "timestamp": 1737103293455,
          "user_tz": -540,
          "elapsed": 2,
          "user": {
            "displayName": "",
            "userId": ""
          }
        }
      },
      "id": "4IjBNfV1UroN",
      "execution_count": 27,
      "outputs": []
    },
    {
      "cell_type": "code",
      "source": [
        "def create_glossary(\n",
        "    input_uri: str,\n",
        "    glossary_id: str,\n",
        "    project_id: str = PROJECT_ID,\n",
        "    location: str = LOCATION,\n",
        "    timeout: int = 180,\n",
        "    src_lang: str = 'ko',\n",
        "    dest_lang: str = 'en'\n",
        ")->translate.Glossary:\n",
        "  name = client.glossary_path(project_id, location, glossary_id)\n",
        "  language_pair = translate.Glossary.LanguageCodePair(\n",
        "      source_language_code=src_lang,\n",
        "      target_language_code=dest_lang\n",
        "  )\n",
        "  gcs_source = translate.GcsSource(input_uri=input_uri)\n",
        "  input_config = translate.GlossaryInputConfig(gcs_source=gcs_source)\n",
        "  # request = translate.CreateGlossaryRequest(input_config=input_config)\n",
        "\n",
        "  operation = client.delete_glossary(name=name)\n",
        "  glossary = translate.Glossary(\n",
        "      name = name,\n",
        "      language_pair = language_pair,\n",
        "      input_config = input_config\n",
        "  )\n",
        "\n",
        "  parent = client.common_location_path(project_id, location)\n",
        "  operation = client.create_glossary(\n",
        "      parent=parent,\n",
        "      glossary=glossary,\n",
        "      timeout=timeout\n",
        "  )\n",
        "  return operation.result()"
      ],
      "metadata": {
        "id": "rpqRSUWgW3le",
        "executionInfo": {
          "status": "ok",
          "timestamp": 1737103629458,
          "user_tz": -540,
          "elapsed": 2,
          "user": {
            "displayName": "",
            "userId": ""
          }
        }
      },
      "id": "rpqRSUWgW3le",
      "execution_count": 33,
      "outputs": []
    },
    {
      "cell_type": "code",
      "source": [
        "glossary = create_glossary(\n",
        "    input_uri=\"gs://jins62/game_dic.tsv\",\n",
        "    glossary_id=\"game_dic\")\n",
        "\n",
        "print(glossary)"
      ],
      "metadata": {
        "colab": {
          "base_uri": "https://localhost:8080/"
        },
        "id": "geOZKwVuYU0n",
        "executionInfo": {
          "status": "ok",
          "timestamp": 1737103822019,
          "user_tz": -540,
          "elapsed": 190176,
          "user": {
            "displayName": "",
            "userId": ""
          }
        },
        "outputId": "f9aa9465-8f19-404c-9203-0b845fdbaea2"
      },
      "id": "geOZKwVuYU0n",
      "execution_count": 34,
      "outputs": [
        {
          "output_type": "stream",
          "name": "stdout",
          "text": [
            "name: \"projects/429718924597/locations/us-central1/glossaries/game_dic\"\n",
            "language_pair {\n",
            "  source_language_code: \"ko\"\n",
            "  target_language_code: \"en\"\n",
            "}\n",
            "input_config {\n",
            "  gcs_source {\n",
            "    input_uri: \"gs://jins62/game_dic.tsv\"\n",
            "  }\n",
            "}\n",
            "entry_count: 4\n",
            "submit_time {\n",
            "  seconds: 1737103635\n",
            "  nanos: 790167894\n",
            "}\n",
            "end_time {\n",
            "}\n",
            "display_name: \"game_dic\"\n",
            "\n"
          ]
        }
      ]
    },
    {
      "cell_type": "code",
      "source": [
        "def get_src_lang(sentence):\n",
        "  parent = client.common_location_path(PROJECT_ID, LOCATION)\n",
        "  response = client.detect_language(\n",
        "      parent=parent,\n",
        "      content=sentence\n",
        "  )\n",
        "  return response.languages[0]"
      ],
      "metadata": {
        "id": "DWp0daWAaLbN",
        "executionInfo": {
          "status": "ok",
          "timestamp": 1737103308859,
          "user_tz": -540,
          "elapsed": 610,
          "user": {
            "displayName": "",
            "userId": ""
          }
        }
      },
      "id": "DWp0daWAaLbN",
      "execution_count": 30,
      "outputs": []
    },
    {
      "cell_type": "code",
      "source": [
        "txt = \"길마가 용계 입구로 모이시랍니다.\"\n",
        "src_lang = get_src_lang(txt)\n",
        "print(src_lang)"
      ],
      "metadata": {
        "colab": {
          "base_uri": "https://localhost:8080/"
        },
        "id": "sHhMTRudaA4x",
        "executionInfo": {
          "status": "ok",
          "timestamp": 1737103312243,
          "user_tz": -540,
          "elapsed": 3,
          "user": {
            "displayName": "",
            "userId": ""
          }
        },
        "outputId": "883d1cde-d4af-414d-d902-cc21a51952a4"
      },
      "id": "sHhMTRudaA4x",
      "execution_count": 31,
      "outputs": [
        {
          "output_type": "stream",
          "name": "stdout",
          "text": [
            "language_code: \"ko\"\n",
            "confidence: 1\n",
            "\n"
          ]
        }
      ]
    },
    {
      "cell_type": "code",
      "source": [
        "response = translate_text(txt=txt, src_lang=src_lang.language_code, glossary=glossary.name)\n",
        "\n",
        "# Display the translation for each input text provided\n",
        "for translation in response.translations:\n",
        "    print(f\"Default Translated text: {translation.translated_text}\")\n",
        "\n",
        "for translation in response.glossary_translations:\n",
        "    print(f\"Glossary Translated text: {translation.translated_text}\")"
      ],
      "metadata": {
        "colab": {
          "base_uri": "https://localhost:8080/"
        },
        "id": "N56akbQbYnp2",
        "executionInfo": {
          "status": "ok",
          "timestamp": 1737103833288,
          "user_tz": -540,
          "elapsed": 3,
          "user": {
            "displayName": "",
            "userId": ""
          }
        },
        "outputId": "29792a23-f15b-4586-cc55-29f7d4e9f5bb"
      },
      "id": "N56akbQbYnp2",
      "execution_count": 35,
      "outputs": [
        {
          "output_type": "stream",
          "name": "stdout",
          "text": [
            "Default Translated text: Gilma gathers at the entrance to Yonggye.\n",
            "Glossary Translated text: guild master, please gather at the entrance to valley of dragon .\n"
          ]
        }
      ]
    },
    {
      "cell_type": "code",
      "source": [],
      "metadata": {
        "id": "7HdGg6Kcasmu"
      },
      "id": "7HdGg6Kcasmu",
      "execution_count": null,
      "outputs": []
    }
  ],
  "metadata": {
    "kernelspec": {
      "display_name": "Python 3",
      "language": "python",
      "name": "python3"
    },
    "language_info": {
      "codemirror_mode": {
        "name": "ipython",
        "version": 3
      },
      "file_extension": ".py",
      "mimetype": "text/x-python",
      "name": "python",
      "nbconvert_exporter": "python",
      "pygments_lexer": "ipython3",
      "version": "3.10.10"
    },
    "colab": {
      "provenance": [],
      "name": "younki.cho (Jan 17, 2025, 5:06:29 PM)"
    }
  },
  "nbformat": 4,
  "nbformat_minor": 5
}