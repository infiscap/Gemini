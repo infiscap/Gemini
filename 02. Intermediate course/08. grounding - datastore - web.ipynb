{
  "cells": [
    {
      "cell_type": "markdown",
      "source": [
        "# 1. 이해하기"
      ],
      "metadata": {
        "id": "BzmfufVGMJnc"
      },
      "id": "BzmfufVGMJnc"
    },
    {
      "cell_type": "markdown",
      "source": [
        "![image.png](data:image/png;base64,iVBORw0KGgoAAAANSUhEUgAABEYAAAFBCAYAAAB6haoKAAAAAXNSR0IArs4c6QAAAARnQU1BAACxjwv8YQUAAAAJcEhZcwAADsMAAA7DAcdvqGQAAFcsSURBVHhe7d0LcFxnffj9n+zECQzYEJPAcPtHW4tkjTSNPA0NlCHhGqpFInbqDtmt1HkRZRI6XAatlWDcEBvjgLzyYA/h1ldkLLHbQBibWqwCBGrzJx0XHHtpJWvd2pGAkpJQ0uLkhUASe9/zXM7uObur1Wp18a7O9+M50Z77Reec6Pnt8/yeppxDAAAAAAAAAmiF/QkAAAAAABA4BEYAAAAAAEBgERgBAAAAAACBRWAEAAAAAAAEFoERAAAAAAAQWPRKAwBoCPfdd5/9hKB63eteJ6FQyI4tX9zrwMLq6OiQ1atX27HGwbsAWFhvfetb5fLLL7djfgRGAAANYd++ffLAAw/YMQTNj3/8Yzl27FggAiN79uyRBx980I4BmI9vf/vbcvbs2YYMjNxzzz3yrW99y44BmI/vf//78uijjxIYAQA0NhUYOX78uOzfv99OQZCsXbs2UIGRkydPytDQkJ0CoBbnz5+XlStXNnRg5OjRo/LVr37VTgFQq1WrVlUMjJBjBAAAAAAABBaBEQAAAAAAEFgERgAAAAAAQGARGAEAAAAAAIFFYAQAAAAAAAQWgREAAAAAABBYBEYAAAAAAEBgERgBAAAAAACBRWAEAAAAAAAEFoERAAAAAAAQWARGAAAAAABAYBEYAQAAAAAAgUVgBAAAAAAABBaBEQAAAAAAEFgERgAAAAAAQGARGAEAAAAAAIFFYAQAAAAVjfU0SVNT8bBeBs/YBRbDaMy/v54xO2PpFJ93bNTOWFBjElPbbxuUaTtlXoqvm+/35N/X9O71i3hewAI5Myjrffe0/541z6m9z91lF/F9UfI+nOezy3NYHwiMAAAAoAphSZzOSS5nhnR3VuIt1f8xr/74r/oPf1W46UqJdKf1vqYGwiIjEVm/u1D8GOtZ3MCMOt7IiEj0kDrfKUm0iqS6FjkYNE+6gOVcN3PMtf2eajcmsYUK7gAuFehriYsMTOXvafU+SHU1+d4Hi8X/npmWwbYm570QlbQ9llwuLdGJuISaYs4TUL3Ffn9h7giMAAAAYM46hp0CgfMztXX2wrAqsIf6s3asCtkTopYOt4X1aPOWSV0ImdzSrMfVN7YqaLGYsuP6CGSDPoRm6RtXhaBJ6VunxhdShyRVAWu8z9nLPJwZlIhzjcNOATLZaac5OoZNAc47zeVe13Lz5kbVRIlIyo4BC8O5r2yA1H32leL3gc+6PplUz9Nwh51Qu+L3zPTuiMQnVLA06Ty1Luf5PZ1w3hQpiVRZS6V4uwv3HGI+CIwAAACgBh0S63Z+TJgghvttaqGKuf1GdDSWD4qob3ndKu5u9XF3KPftb7Y/VDLdrcnhzNU1Idz5xdvz1pBw58V6bDMTfQxFx1u2UKP2McM3u0XV+wv7c5urxCSmt79e3rdR/fR+o+xt0uL9bBU3HfAem6+pTOHYpg8O6d9D+9XVh1fy18U99hnPyRTm9P52e/afv442KKK/OeebcCyQ0aS+r9wAaVXce9jzzPiavnies/z9v9tz39v5pe+Z/ysHhtUTFpVYcQBj3SbpbXV+ZrL5dfV23feNGuzxlG53uvQ5dN8J7lDu3dAz6Hl/eZ+5onXnWJMlyAiMAAAAYB4yknX+KB/rCUl8wq1irmqTOH/4b3T+oO9MmqYwDt3EQ32Ta4MlbpOPdLcKgkQKf9x37tRNVxQVHPH+4a++XVXLu0171LfGqmDh3V7uULRsVfuUxMz84bBTqPAcr/rGt6ipTsed6ltgxRRgSgonLXHJepr6lDSzmcjIhoPqeCbl/32vrlsjcXf7tsAX3VWmlkjRttW55JsRqaBIV0rXCjHXTR2bKfj4a7jUoJpzcq7FkOy0+3ZGR+LOfFWbxtQektaETC1KrRoE0fSpjP45l2BfMVM7w20GaJu9FAVBU+NhXctEv6ec+dtGy71n/j85MeGMtm6w74Uy8kFiI/++8TzD5d5ffiqwEZGUfpbUMU9JQso01Rk5IWFVi03XVnHeAzvM3LEeFaT0vNecsWprsgQdgREAAADMm2mysVOy+lvMWZpVdCZ1gWHnKfNNqbdauWGarpgChGKCE94aDAXT5ptcpyCx0/0m1wZWssMHCsEMR3SzrQB/5oAMqUJOd8xUibff+PqW11XybYFf8eQRcGtnuNtr3tirCydDBz17a+2VTW6AoDOmt+Nuf+x+HRYp/ebZUbxt91qpApRZLyy9G01hqmOz2mpKkmWvy9xUdU6efZtv8bNywlsSBOrKmCTVuyX/LNpabiNJX5Ahf89f3a5/Zk557/naFZ5h//NfUUnQ1HkX7irznOffXWHRR21rqxgpiTjv1Vh24ZoVBQGBEQAAAMxDu4SdQoeprh6SeLuqceAJKJRjm4OE+tv1N5uFAIifCbaYxKdK+XwmTuFcBTnKKfoGt8RIRB+HPm61jZLlbf4P/c2r4qn14dBNg9T6qqaFM25qbZTTITv1t9FDcuCMLay5BZsis9f8sDVY1H5V/gWHKsgtVKCi+nMCFteCBSp0UNPc1yYIa2q5zY3zTKr30GzvlLKqX9etJVNONdehUNOt8CwX15xDeQRGAAAAUAP321hVtdz9nJCpKr6ddGs+JE57kxjOxNNUoyxb6CinUrV3xW2ukh9mOB5Ve0RVhy/i7f1FDxXOPV8DY2PcfCPsfptcZPYAh9ssoDCo2iRm+/MvRM7lnIBF5da0mG9wLt8sxR1qae7VLJt61BNWpoZWcQ20EjZ4O9v7yOEGg8qpqkmRm3zWGdwmjL5mipgRgREAAOqCSQSpv9nRydVIYIj6Nr3bFvC9eTLsN6LuPFf5P/Zt4d+53+P6W9wCN1liISloVvT3qO1hvS9/MkZbYLG5AbTRbboGSLhnU+HYvNxkiW6Vev3MOfvMt8V3ExgW2vV78x24QYjU/WZuafLEMtzmOhPOSXub/RQp3rZ7bOrdYJrOFJq35BOiqneFUyBKOwUhlZOlNGnqLMfmqOmc8ioEp4CadUjSm2PHcu/N2WtCuAmiVU0tNV4m0XEFxUlfm7eky3Tb7WxT166KSrooiJiv4eYmkbXvo+Lt+thgUKF2nPO3wVb9pi3b9M7PTSht3luFfCamVh9mkQMAoAHs3bs319PTY8eWo6mc8wdXLjwwlcudTuTCEs4lTttZNUnnnD+uctFDdrTBXXbZZblHHnnEjpX3jW98Y9ZlGsHg4GDuve99rx2rD84f1zn1Z6N/KLpHD0U986K5qF4n6tyJirkf9bzWhHO3e8adIdpt1vXeryX77DZb0vQz4p8+NRD2Le/dljvP/zyYZy6/jj4uL/8xlqzvPQZn0M+uZtcr2V7hOArLKmWWL9q279x917n4nBxF8/2/J/++Sq7LjOfk/j4K2ype13v9S47pAjl37pw+nrNnz9oppdQyyWQy99hjj9kp9eNzn/tcLhaL2bEAK34eiu4x373pLut5ZvzvEvedVOb+t89O/r737nfG7TlD0bOe3+5A+fWLt1tyHMXvnnLvhvz2it8fRe+1ef8tsXxcfPHFuV/96ld2rFST+o9z0QAAqGv79u2T48ePy/79++2U5UZ90xOSoZ6pMlnqa2Ey28uhnCRn/Zap/q1du1aOHTsmoVDITjHOnz8vX/3qV+XDH/6wvOY1r5Ef/ehHdk7j2rNnj5w8eVKGhobsFAC1UO+HlStXytmzZ2X16tV2qvHcc8/JV77yFfnoRz8qb3rTm2RszK0bVD/uueceOXr0qH7HoXF4e8laDv//XS5WrVoljz76qFx++eV2ih9NaQAAWGputX09lGkyU9KUxq3Wb4ZC8wKzXKzHVCvWg24KoIIsplcQlXytuqrwjeXZZ5+Vz3/+8/Kyl71M3v/+98tvfvMbGRgYsHMBoLzf//73Mjg4KFdccYV88IMflN/+9reya9cuOxdAUBEYAQBgSZn2yO1ugsND7RJvKeQxKGWCHJmBKbP86YRkfO2bs5KSRH5eeCQisdFCssrl9o3V008/rWtUvPSlL5V4PC7//d//rYMkb3jDG+T666+3SwGA31NPPSWf+tSndEBk27Zt8r//+7+6Rsm73vUuueaaa+xSAIKKpjQAFsSRI0f0ACwW1URC/UHb8E1pVDelXSLpkt4vPE1pNh6Q9S1D0nt6Uvpk0Pl8QhKe5VUyxXhb0XI6sZq3+czyakpz2WWXyfve9z5dS0QVZlSAxHXRRRfJ3/zN38irX/1qO6WxPfTQQ/peV9X8AdTObUpz++236+aYivfdsWLFCvnQhz6kA631SDWjecELXiDJZNJOAVCr2ZrSEBgBsCBUUGT79u36s6rO73I/F/9UqpnWSMtXmqc08vKV5ilLsfxyCYzotsfDvTI17unJQ5shMJJVgRRv/x6W6mb0zmygAiOqyYzKu6EKNqr6u0sFRm666SZ5yUteYqc0tn/7t3+Tq666isAIME9uYGTr1q3ypS99Sb87fve739m55t2xefNmWbNmjZ1SXyYmJnTAl8AIMH8ERgAsCTcwcvjwYTsFWFjLJvnqAtQYyVM5RgISGHGTr6rg2Gc/+1n59Kc/na85or71fetb3yrf/e537dKNjeSrwMJwAyMq+ar6nEgkdH4RReUaUYGRm2++We677z49rd6QfBVYOCRfBQCgnnTGJCopSRYlUC1JwOpat0l6W1MS3z1tJ6iAR5Osz48Hi6pWrvID/Nd//Zds2bJFLr30Urn44ovlwQcf1DUtECDeZ2e256guqWBocJ/lpfaiF71Idu7cqQtGKumqem+ooOrXvvY1mZ7md1A78/8kneS7IZ/DRbQcrof6MqepUh605YPACAAAS6pDkjqBqu1FRididWt8lGMSqbb3h8zyTRFJdaer6NK3Q2Ldplea5VjwUl1vqlpqKkDykY98RC655BL5xCc+YecCtfAU8BYLBccLTjXLUz1YqQDJbbfdpgMkn/zkJ+1cAEFFYAQAgKW2rk8mVS8ydjBNXVQAJGcCHnq+N1jSIUnP8rlh26hmhuXcpjMdw2b52YMojevFL36xblajAiQqL8dPf/pTOweBUvIsNALPM48lp6rTq2Z5v/jFL/R75PHHH7dzULOGfA4XEdejoRAYAQAADU99C6wCJFdeeaWdgmVF17SwtazK1bgorokx0/K2Wnisx53n1qgy3WKrNMeqllU1tUZUImV3G01tg84WLLuPQc98s70x3VV31vkXb1HHVNqURvU4ld9mj1t53S7XE/Ock6dqu96fO53aKHOl8hapvCP12jPNnNl7v3Bfmfunqede89Nzr5p72LmX7D1UuO9nabLpved6PIlhfc+h3W9+OW9jDLN9d573eSv7XBU/3w79rOS3OcP29HqF5z32d85xe59VvZ5nu3N+b1i+6+Es5/zUx+A97tm2MdO+y/C+J2LO/rzvgxnfS0qlfcx0DsVqPE7f73+W61z87vSdb7ljWiAERgAAAFDHTECh/ZCtMXWoXeItldq8z7Z8SjJtU3ZeVLL9EecPc9NkLerMjVaTsNj5Az7U3y5ptY3clCQkLiFfwS8l8fFEfh+pLvXHv2lGF3b+JfIJkwtUgSaSSciU3qZzLCMRX8EpOyKScPfXmpKI3p9zrl0ZZ3tqutqXc64biwpDCBZVS8G5z0Tf1+q+ijh3p3NfDf8/zj1u7tWIuq+cwmmk37mnTielozNp71PznIz1VGqyqe65lH5O1D031ZbRAcVier/taXNfqns2E7GFWhOEzAzYZ1A3LbWF45meK51rKytDB907e0ySzvMQ3axqT1bYnlZ43pOfjEl0YkgO5AviSUm19som/SzW8t5Q06u7HkaFbVT7jnOuUWQkmr9GGzKevVV8L/n3MTUgnn1Uew7VH6f/fWZ+/+Z9Vuk4lJQMiblvpgbCOlCd3GyWTavmwVsX8f3m7AQA5u3w4cO5G264wY4BC2/v3r25np4eO4agueyyy3KPPPKIHVveBgcHc+9973vtGJwCRM4pAuWcP/b9TidyYQnnEqeLPqvlWxM55w9yayqXaJWc80d/6ba86zlTo86fxnq5WTh/oOek23NE3u3qz+42FbP/8IBzRL79eab7PhtOocCeR+m8wv7NMfuOBXnnzp1TvW/mzp49a6c0ls997nO5WCxmx+ZG3z/q3vDdiw59D6rp/ntK0feVnlfmeXOVPI+e58Zzf5v9F+1b8T0DfpWeq8Lz4FDb8H4uOl61ndLnzcjPK/qs91XLe6PK6zHrNmbad5FK16jSvIrHWe089bmq4yx9Z+XN5TiKxn33QA0uvvji3K9+9Ss7VooaIwAAAKhb06cyIq0bxCnMVUUvPxGXkK163dQUkviESObUQn3POC1ZZxfhtkpH1C7hfI2QZgm3248zysoJ5xjbr55rvhGVV8jULnGrmvubLCComrckdA2o8EDaXztpXZ8kup2frQlJF9UI6bhT1WhyiqKH3O7hx3xNVNQ3/qXPY1g2tNqPHs1bJm1tAHd9W4sje8K5273Ph6vyc6XPx9b2mD44JNKzyXmyHHp7KYl4jjMy4kwez+r1inVsjkp2+ICzN7W/sPRuNNeg1vfGXN9P5VS/70rXqPL1q3Sc1Z5D9cc58/tsIa7XYiEwAgAAgLrVfHW788e4KvxURy/vFPqmdBXuwrBwSU5NoGOmgpeRkaxbXd8WWCozhcvagjee5MynnYLtiNtkAUGmm8O0OsXPfHMNSzfFCDt3nG1SkzctgxvjzrOjmi+4TRv8ib/VM1T6PJpCcDkqOOKum+7Oim7mFVaFYu/z4ZrtuVI9ranmNGNyYFjyAQ3R23OblngGN0l5MdVlvgqwjB6QIXGb0dT+3pjr+6mc6vdd6RpVvn6VjrPac6j+OGd+ny3E9VosBEYAAABQv1RBRlKSdAv7OnHfehn8mR0vpgs+cdnmW35hk/apb51lJGkLj06BcmtKpDtmv2VXPPkQRrdJfKLwzXR5zbKpJ2y/yVbGZFt/VsLut+Izca+FW8hcF1bfxcuGevw6FkvHzUMxPilpVWsjn3fGzSUxKZMHC3lIFDcXiV6n281hU4Z9HuNuUEXl6TCffPzJUW1NhvawNJfJF+Im+pztudK1PZxjjrcnCrVg9PY8x2O350ts6mMCLPGuuGTV8dipNb83it5P07vjZa9HRXPYd9lrZFW8fmWPMyoxlU+p2nOo+jiL32ee+6HScVxgBEYAAABQx0zS0kyXrb6tE/dNSt//sbNLlC4vA1OzJ1TVBSbRyf5mLlRZnUmZGsjY6vshXaCc8n1DHZX28ZDZvy2I6oKcLRSq5gXFhQn17Xq63a2mXin5pYdKtKkTINpzddbLFDedQLCMxuw9Z5rDNG9J2ySc2yVm7yv9LDj3jg6atMTk3t3rJaQSsR7s04GCjuHS5L8F5vmSfnt/b3Xu9jJNaTqGTcJNc182maSg+hkxiY7b3fX1PWufz9meK12odvank666Src327OjAwgO/3Zqf28kdeJas15EevUxzk2lfU/r3n3y7wvnGunAlT1X6fHsreL18+9D/75V4l13XlXnUOk4VUCqEKT1v8+cbapErPpYKh3HhdWUU/VfAGCejhw5Itu3b5fDhw/bKcDC2rdvnxw/flz2799vpyBI1q5dK8eOHZNQKGSnLF979uyRkydPytDQkJ2ChqILpiLpXH38sR9k58+fl5UrV8rZs2dl9erVdmrjuOeee+To0aPy1a9+1U7BglA1HVpOSGJRnlEVIIjLhjI9Ty0K9b7ZukGmxk1Qa2Es8TkskVWrVsmjjz4ql19+uZ3iR40RAAAAAEAgqOStWV/Tt3nQzUkK3c2apiHlkssuDNUNbqGJkm0u420SVIslPod6RWAEAAAA8NDt4W0V8JKhzc3XAKCxmGYphWY9C0D38lPoFWexm4bo3nnyvVCVa8ZXgyU+h3pFYAQAAADw6Bj297rgG2arst6ZdJajGQ1Qf1Q+EvUcL+zz6X9fLHbzkw5fT0Gzvo+qtLTnUJ8IjAAAAAAAgMAiMAIAAAAAAAKLwAgAAAAAAAgsAiMAAAAAACCwCIwAAAAAAIDAIjACAAAAAAACi8AIAAAAAAAILAIjAAAAAAAgsAiMAAAAAACAwCIwAgAAAAAAAovACAAAAAAACCwCIwAAAAAAILAIjAAAAAAAgMAiMAIAAAAAAAKLwAgAAAAAAAisppzDfgaAmh05ckS2b98uhw8ftlOAhbVv3z45fvy4PP/5z7dTECRf//rX5dixYxIKheyU5WvPnj1y8uRJWbVqlZ0CoFZf/OIX5ezZs7J69Wo7pXHcc889cvToUXnhC19opwCo1dDQkDz66KNy+eWX2yl+BEYALAgCI1hsKjDyu9/9zo4Fz9///d9Lc3OzvO1tb7NTgucv//IvAxMYeeaZZ+wYgPn6wAc+0LCBkaeeesqOAZiv3t5eAiMAFheBEWBxvfnNb5brr79e7rrrLjsFAAAAC4EcIwAAAAAAILAIjAAAAAAAgMAiMAIAAAAAAAKLwAgAAAAAAAgsAiMAAAAAACCwCIwAAAAAAIDAIjACAAAAAAACi8AIAAAAAAAILAIjAAAAAAAgsAiMAAAAAACAwCIwAgAAAAAAAovACAAAAAAACCwCIwAAAAAAILAIjAAAAAAAgMAiMAIAAAAAAAKLwAgAAAAAAAgsAiMAAAAAACCwCIwAAAAAAIDAIjACAAAAAAACi8AIAAAAAAAILAIjAAAAAAAgsAiMAAAAAACAwCIwAgAAAAAAAovACAAAAAAACCwCIwAAAAAAILAIjAAAAAAAgMBqyjnsZwCo2ZEjR2T79u1y+PBhOwXAQnrzm98s119/vR0DUC/uuusu+wkA0KgIjABYEARGgMWlAiMA6stb3vIW+bu/+zs7BgBoVARGACwIAiMAgCBRwcq3v/3tsnXrVjsFANCoyDECAAAA1GDlypX2EwCgkREYAQAAAGqwYgV/SgPAcsDbHAAAAKgBNUYAYHkgMAIAAADUgMAIACwPBEYAAACAGtCUBgCWB97mAAAAQA2oMQIAywOBEQAAAKAGBEYAYHkgMAIAAADUgKY0ALA88DYHAAAAakCNEQBYHgiMAAAAADUgMAIAywOBEQAAAKAGNKUBgOWBtzkAAABQA2qMAMDyQGAEAAAAqAGBEQBYHgiMAAAAADWgKQ0ALA+8zQEAAIAaUGMEAJYHAiMAAABADQiMAMDyQGAEAAAAqAGBEQBYHgiMAAAAABXkcjmZnJy0YwXewMj58+dlYmLCjgEAGgmBEQAAAKCCpqYm+fznPy+bN2+WRx55xE4tBEb+8R//UcLhsPzmN7/R4wCAxkJgBAAAAJjF7bffLgcPHpSWlhb567/+a3nmmWckm83qgMhNN90ka9askTe+8Y12aQBAIyEwAgAAAMziVa96lfzVX/2VriUyPDwsR48elXg8LqdOnZJLLrlEBgYG7JIAgEZDYAQAAACowl133aWb1Sgq78hzzz2nx1/72tfKDTfcoKcDABoPgREAAACgCldeeaXcfPPNctFFF9kpomuLfPrTn7ZjAIBGRGAEAAAAqNInP/nJfK0R9fOqq66St7/97XocANCYCIwAAAAAVVq3bp28+93v1rVGVG2Rz3zmM3YOAKBRERgBAAAA5mDHjh06v4jqoebGG2+0UwEAjaoppzJHAcA8HTlyRLZv3y6HDx+2U4CFpXp+QLCtWrVKQqGQHVu+uNcbw0c+8hHZtGmTvOlNb7JTUK9e/vKXy+rVq+0YAJQiMAJgQRAYwWLbt2+f3H333XYMQfPMM8/IsWPHAhEY2bNnj+zevduOoV6pP6HdXCOoX4899picPXuWwAiAigiMAFgQBEaw2FRg5Pjx47J//347BUGydu3aQAVGTp48KUNDQ3YKgFqcP39eVq5cSWAEwKzIMQIAAAAAAAKLwAgAAAAAAAgsAiMAAAAAACCwCIwAAAAAAIDAIjACAAAAAAACi8AIAAAAAAAILAIjAAAAAAAgsAiMAAAAAACAwCIwAgAAAAAAAovACAAAwDI21tMkTU3rZfCMM3JmUNY3OeM9Y2bmBTEmMXUMbYMybacsJ77rXTca75pP717vXMcmiY3aCQCwiAiMAAAAoCZjPQsTAFCFYArAWKj7CQDmisAIAABAUKzrk8lcTnLDHXZC7VTNiMiIHZmTDkmqYxjvk2ZnTAVFQv1ZMwuLxH/N61Ht9xMAzB+BEQAAgIZnm0q4w0xNJkqa0kzLYJtnPU8Tm3xTht12HTXY7ap5phCblXhLk6zfXbo3d313KCzjadYxGssHRVJdzjR3/870wrrV1yKYeZ8O99zt4K+hUnT9mmLOFDvHNo2J9Zhtu9s0092h9BiHNhbml7s+5c38+8g30dntuTbeJlHea9YWk5jejnse/qY0lX63xszHUUl+uz0zHOMM17nS/ZTZ6vmdVnkcADBXBEYAAAAamipsRiTVmpApVSvgdELCE3EJzVqIVIXfkMQnopJ21xuJlBTiU+NhXctkaiAs4mx326hI85ZJSXeruWFJnM7J5JaieghnBiXSn5XwwJTknHXVstn+SGmAozNptuuIHrI1WVQBvyvlWVcVlguBihlV2qcKirTEJdud1vPUPlNdbjBDXYei6ycpifiuX1YybWZdda6mdoM591xuShKtxceYFemZ5dxLVPP7yMqQ7MxvV0bidrvOPeBcM3HPYZfze5tQ0ysr97ut9r6oJCUxfYy5Q1HnGN11Z77Ole6nbHtCb0sfo7MtmlwBWAwERgAAABrZaNIpXjpFyp5NpplEtc1lzhyQIVV47o6JXnLdJultdQqiwwecImxBdLPZTvPV7fpn5lT1BeRsf0jXRAgPO8eTm5S+dXZGBWP367OR3o2mcNyx2SlcO2eYrLJAXG6f0weHVKiicC4be509ZGXooDqXZukbd5YdD8s2VStBBVD0Ul6F41FBiKSq3dDaK5v0+dj1c0lzHbXC8uE2FfjJyonZWgtV9fuYYbvF90DnTkk4686m7O+2yvuiEne70hkT9dsz61ZznUvN5/4DgGoRGAEAAGhg06cy+mf71W7BfY5GIrapgqol4IxPnKiqwFrRuj5J6BoADlV7RW+/ilofeaZJhT4uVRPCMWuBuIp96uY6nkJ5dlz9V9VkUNMjklG1TXRNhgrOZEVf8fawCUIstBp+H/O+B8pZkPsiLBtUgEavO8frDABLiMAIAABAA5v3N+m2eUlh8NZ8qF2HrrGhhrSuNaBqffibp1TiNlMpDCXNdcqYbZ+6uY5nm7pWTb6GRLqqfci6sOgrnlFF/UVQw+9jUWpTLMh9kZUT6tq2bpDwXK8zACwhAiMAAACNzNdcQbEJLmcLQtgmEjKSNLUqShKzVmaachTkE2+qJi82EajJLdEhSVs7oHgdxS3Uu0zTGbeZi3M2btLR2XJ0VNinaTojkrrfnJvvWF020DG2Y7YmHh0SUzVTJobkgD0mc4xzqRFTxnx+H8X3wOg2U8ujFvO8L5TUVpvItbiJjzLDdS53bwDAUiEwAgAA0NBUV6xpieabj9gEl7N2yatyPqjEoSmJqPVU85Kq1jPcPB26yUtxobkzqRNv6nwf7rZnqilgC/W6mYvqGaVoXdVbSfRQFflJKu1T5V1RgRLbPET1hKOStCY7nfWceWmbfFRdv0gmKlEVGKhQI0TVTDFJYZ396GNUNVzmW9NmPr8P5x5QiU7de+D+DVXlGClvfveFEu0Rs65qBuX5HVS6zhXvJwBYZE05VTcOAObpyJEjsn37djl8+LCdAiysffv2yfHjx2X//v12CoJk7dq1cuzYMQmFQnbK8rVnzx45efKkDA0N2SnAXNmeZSQhU+N9i5MLpQxVE0cFnVSTJR10usDOnz8vK1eulLNnz8rq1avtVAAoRY0RAAAAoJG5zV3yzXlsbo/FShALAMsMgREAAADUv3zhv/zgyxdSl9xeWWYY5tN8xG2mopLN6u1V25xqLhbx+AHgAiMwAgAAgPqn8oT4eknxD/XQdKMylbuj/LHrYZ5BjOYtk/7tLXgTmtmP3z2G+v9dAIAfgREAAAAAABBYBEYAAACwrOjuc5eoacfS7cs0ZTHdEQMAFhKBEQAAAmApC4oXyre+9S2ZmpqyY8A86Hwm62XwjB2/UOrlOABgmSMwAgAAGtp3vvMdaW9vlzvvvDMQ3flidh3DJufF8mJyfExuoZ8ZAFhoBEYAAFhsozFR3WgO7l6f78HB14OGnm+mqyFfVV5Nb4tJTPcE4X5rPCYxz7KF7dhq9j0xT88dpuvOaWe/kRHnw0hkWdUa+f73vy9/8id/Il1dXfKTn/xEduzYYeegIbm1I3YXnodCsxFzf8ec+1vPs/exurfdZZvaBp2ljOIaUnrcXa7oGSjdhvOMtcQl6/yLt8y9tkalfc04r+w7oPg4SpvSlN/ezO8CAEB5BEYAAFgSKYmPJ0zvDYeikuryBDq6MpI4bXt2cOZl+7cVCjETKZFdat6k9K1TBZ6IZAamzLKnE5LJb8fIjogk1LzclCRaUxJxCkuqp4h0tzOzO70svkV/6KGH5Nprr5WOjg7JZDLyzDPPSHNzs0QiEbsEGldW4sMbZMre39If8gURUxk7T93HozEJ9bdL2r3fJS6hokCEogODmYRZTy2XifiCj4Vt5CTdrrYhknT2HXb+JU6r584sWg3/vtISHSnsa+bjmOkd0FHxOCrtSyn3LgAAlNfkvIBz9jMA1OzIkSOyfft2OXz4sJ3S+NQ5oX4cOHBAzp49K/v377dTGoj6NlgXfNzCjQpwhGSoZ6qkWrwq7JiCWlI69HpiPquZ6hv1lhNOYceOO9Q3xvE2tR0p2aaaFxETDPF+bkRr166VL3/5yzI4OCgPP/ywnDt3Ts6fP6/nXXLJJbJlyxb5sz/7Mz3e6NS9/txzz8lXvvIVOyUg9P0dl/ZDhe5eC/dtuOL9rXmeFyla78QuTxeyarmtG2RqvE+yMz0X+liGpLeKwEilY9TP83Cvs69NcmCGZ76Y7x3gOw7ve6P0ea+0r0Z//mul3hErV67U/+9YvXq1nQoApQiMAFgQyzEwctddd8kPfvADO4YL7Re/+IW84Q1vaODAiCfA4VAFFW9AIz5hpodbw5KdmCEwosdTejkfXROkcsGx0QtGl112mfzxH/+x/PM//7MOGnj/fFFNBVSOkVWrVtkpje2Xv/ylvOUtbwloYMQfjNCFfVXTquT+LhNcLBsYEYk1RaT0qYk6y+2UbPE2XDUFRsy+xBPYKQQrwrKtaF6BOZey74AZAyPZCvsiMOIiMAKgaiowAgDzdfjw4dwNN9xgx5aHT3ziE3pAfdi7d2+up6fHjjWYQ1GnFB/OJU7b8dxULtEqufDAlJ0XzaXtHN948bzTiVzYO+7j2aaV7pacdJulvZ8b0WWXXZZ75JFHcseOHcu98Y1vzK1atSq3YsUKFR3Rn2+99Va7ZOMbHBzMvfe977VjAaLvb8lFD9lxR+G+rXx/a57npXg97za9Znwu9LF4n9mZVTrGqYFwTloTzpzSeXmV3gG+4/BuY277mvE8l7lz587pd8TZs2ftFAAojxwjAAAsiawMHbTt/0e3SXwiLL0b3W+pM5LVeUKmZXBrmRohrnWbpLc1JfF8HgGTiNWbV2C5U8lWf/jDH+rEq6973et0LZFnn31WvvjFL8rjjz9ul0IjS91vc2GcGZT4iEh0c/laDh2boyIjSZuPxz473bF8rSyjWTb1hCW1tSgxq03U6t+GqXXhTeI6N2Zf2eEDdv0x2daflXDPJmdO8Tx7HPm8H1W+A/Iq7QsAMFcERgAAWBJRaR8PmR4iulISPWSr6HfulESr6nVC9RwREdmlki26haRiqrvOtLT32+2oJgLd6dJmAGWYAmBkHoW++vLGN75Rjh49KmNjY3LNNdfoabt27dI/0cjCzpMSN/d3S1xkYKpM0xOrMylTAxmJ6Gch5KyVkKkyTUV08mGVVFUv1ySRkaikx/tMAMG3jSaT20PN00FI81yq5K86YFJF8lL/vvzPZ8lxqMSp6ngrvQOKjsOr0r4AAHPTpKqN2M8AULPlmmPE+xMX1r59++T48ePLJscI5kYlXz127JiEQiE7xe873/mO3H333fKNb3xDXvKSl9ipjWnPnj1y8uRJGRoaslMCYg55PWaz8Dk1xiSmeqsJWI6ORkeOEQDVosYIAFSgvtUDUP9uvPFGHaBVPdQASrgtbD8tgNGkyAxNegAAjY/ACABUQKU6oLG88IUvtJ8QTCbvTmTEm8NnAXQmZ27SAwBoeARGAABYbE6hKkczGqCydX0ymZtvM5oOSeZyzvM2/+Y4AIDgIDACAAAAAAACi8AIAAAAAAAILAIjAAAAWF5UT1BNMZm9g10AAAiMAEBF9EoDAMuY6iK4ab0MnrHjC22xtw8AWBAERgCgAnqlAQAAAJY3AiMAAABoeGM9TbqWnxpi99uJLt20pjB//e5pZ+KYxFriknX+xVvcWh3TMthWWK7q5ji6Zkhhvdiomlhu+84edq8vbL9t0NmjoY5/fU/MbMed7tsuNU8AYLEQGAEAAEBjG41JZCQqad1V75RsyKTsDGVMYl0ZSZxW85zhUFSy/ducqR2SPJ2QsPMvcdp07zu9OyLx9rRZztlOojUlcR1EqWRaBjfGpf2Q3b6zzUyXCqiUbl8dZ6i/PX+cCYlLqKcQesmOiCTUvPE+abaBlfx2D7VLvIW8KQCwGAiMAAAAoKGN3Z8S6Y5Jhx5rlr5dUf3J6JBkzgYmHNOnMuZDGc1bJiU3bLYikpUTE/ZjFVJbbS2PdX0ymUvaY/Ere5wjyUKwIz/PMZqUVGtCdnba8c6dOlCT1LVRAAALicAIAAAAGti0ZDMi4bawHXeEN0hhzN88JjJsJ5fja3ITl0yrnV5Rs/SN29of7rqeJjIFZY6zAh3AmfBssykk8QmRzKnZarAAAOaKwAgAAAAaWLOE20Wy41k77siekPzY6DaJT7jNbHIyuctZuKxpGdyakvDAlGm6kktLr50zOxUcsU1enPWiE3GJlDTBKXOcFTRf7SzcmpApe9zuMLml2S4BAFgoBEYAAADQ0Do2qyYp8XxyUt1kxScjWTe56tbieX75wIUOqJiPlY1JrMlNuKqEZUOrSPvVpQEMc5xu0xl7LN7mM16dMR1g2eZu1yZiLewHALBQCIwAAACgsXUmZWpAJN5imp3EJVpoSqNzc6ieYdS8iMgulRDVBkrWbZJeOy826ub8iJimK/fHJN1dTQ0Pk2Q10+Vp8tKelqTKDeLbvjOujzMjEXc5SchUPqdJsaLttsRFBqbMdgEAC6opp+rkAcA8HTlyRLZv3y6HDx+2UxrfXXfd5fuJC2vfvn1y/Phx2b9/v52CIFm7dq0cO3ZMQqGQnbJ87dmzR06ePClDQ0N2CoBanD9/XlauXClnz56V1atX26kAUIoaIwAAAAAAILAIjACoyXe/+135z//8TztW6plnnpGRkRGdKK5RfOMb35Ann3zSjpVS89QyAIBgGetxm8mUGcr2QAMAaCQERgDUZN26dXr44Ac/KP/zP/9jp5pqq/fee6+8+tWvlscff1z/0dgoXvCCF8irXvUqufvuu+X3v/+9nSr686c//Wk97/nPf76dCgAIio5hf88wvmG8T+gnBgAaG4ERADVR7fw3bdok99xzj7ziFa/QbeFVIOSVr3ylvO9975Pf/va38oEPfMAu3Rje+c536oDOxz/+cXnpS18qP/rRj+THP/6x/rx161Z5+ctfLh0dMyXJAwAAANCICIwAqJlKtnrRRRfpGhWpVEr+4z/+Q375y1/KJZdcIh/72McasnaFqi1y6aWX6mYzDz74oG4ypD4/73nP07VGAAAAACwvBEYA1Ow1r3mNRCIRnfFdNaE5d+6cnq6az3zoQx/SnxvNu971Lt1kRlHn456TqjXS1dWlPwMAAABYPgiMAJiX3bt368CIS9Ws6O/v1/k6GtVnPvMZX20XdU5qWiPlSwEAAABQHQIjAOZFJWC98cYb88ERVXOkr69Pf25U7373u3UNEdfatWvlL/7iL+wYAAAAgOWEwAiAefvUpz6lAyMqt0ij1xZRVM2QRCKha4qomiOqVgy1RQAAAIDlqSmn+hkrQoJB3HHHHfYTUB2Va+T73/++PPbYY/KiF73ITm1c6tWoasM888wz8rOf/UxWrCCOfKHt27dPjh8/Lvv377dTECSq5taxY8d0j1jL3Z49e+TkyZO6ty8AtVO1WNUXN2fPnpXVq1fbqQBQqmxgJBwOyw033GDHEDQ//elP5YEHHrBjF54qaH/zm9+0Y6hXP//5zyWTyehmKMvFww8/rJOv/umf/qmdsnzceuut9lPjcAMjr3/96+0UBInqRjtogZFrr73WTgFQq9tuu43ACIBZzRgYuffee+W6666zUxAU9913n/42tt4CI83NzXLTTTfZKQDm4/rrr2/YwMjRo0ftGIJINdsLSmBEBYEALIwvfelLBEYAVERgBD71HBh5+umn7RQAtbrlllsaNjACAAAALAYazQMAAAAAgMAiMAIAAAAAAAKLwAgAAAAAAAgsAiMAAAAAACCwCIwAAAAAAIDAIjACAAAAAAACi8AIAAAAAAAILAIjAAAAAAAgsAiMAAAAAACAwCIwAgAAAAAAAovACAAAAAAACCwCIwAAAAAAILAIjAAAAAAAgMAiMAIAAAAAAAKLwAgAAAAAAAgsAiMAAAAAACCwCIwAC2B693ppamqS2KgaG5OY87mpbVCm9VwsN/7fNwAAAIBGRmAEqHOqEF4PBfCFO44xiV3AoNFYz3oZPGNHFsyFPScAAAAAtSMwAiy4DknmcpIb75NmO6VWKhgR6s/asQtn4Y5D1aaJSMqOLbWxniaJjNiReWjeMik553ec7FRjF/acAAAAAMwPgRFgDtwmFO5QvgZFmaY0ozHPep4aC2cGZb2a1jMog21F85113GBEqkstM6Y/F1OF/XLbdo811mP3rdef9uzHneYqmjfbccx0TjNS27cBhIm4hPLr2OuVH2LOFMOc23rnHMy5rN+trqh3+cK8/O/CvaZ2cKer62GCIlmJt7jbqmTm48pf29GZzqnSdQYAAABQTwiMAFVya01ED+V0bYF0twoUVBEQUAGErpSEB6bseqpgXihkayMnJDzubPd0QsKq4L7DmduZlKmBsJ6t9zncoT97mRoQYUmcVsc0JYnW0m2nJKb3mxsOO4X1kMQnopJW42pfI5F8gGCsxzMvl5aoOo6NgzJd7jiqOacSzdI3rrbraE3IVG5S+tbZwIIet8fkHHHEF0jISqYtrfczuaXZOU4ViHDPOeFcO09NFhUUaYlLttssr47b/R2pWh7qdyZ2XbWtSsx+PNeq5LiUmc5p5usMAAAAoL4QGAGqMi0HhlUBPCox3XxCpGNYFcxVQdiMz2TsflWfICy9G01BvGOzKkanJOmtbdIdEx32WBeWdvUzk3X2OJsxSaoaEK29skkfgyqkq2NKmm1Z0c127MwBGZpwfub3tUl6W0Wywwf0vsz57JSsrulga0HMoKpzqoo95vGwbFM1K1RQw84pKOyn9Jw7ZKcN2ijTB4f0+u45N2/sddbOytDBWoMSKYmomiHZPplUQY4ywakSs1xnAAAAAPWFwAhQlaycUIXd1g1OQbsWqkaFbVbRZUIOmVPzLCafyUpG/WwPzy2XyUjENvFQtRqc8YkTOphgmq0409pVbQtbC6KihTgnt8lJRDKq9omumVFBleesm/x4Ai3Z8dJwy2w67iwci7u9OdX6mOE6AwAAAKgvBEbmQRckyR0QEGHZ0Or8qLlw6zb9KAyzNeWY1Zxql3jYZiaFQdUwcWtiJGSqmloR2gKcU752Rbq6das8Z7e5U36o+pw81tlaIs7gNiXK9kdmbzrlKnudAQAAANQbAiNzoZM6VpNkEstPs2zqUYXjQnMRk4Bz9vvBNDMpNOdwE4pWcx81X63DAAX5ZK0qINchMZUzY2JIDthtmW3PkOvDNumQkaSZ79uWZQM/07vjvqY0xcdR+znZAFMxG+gY21GuKY1X8TmPyTZPbzmm6YzzW7rfnFMhSaoelXBbxfooHm5NFnMtC/lJ2iVc0nSq6Jyquc4AAAAA6gaBkXnQORlq+Sa6wT388MMSj8f1t+BBogrHJpmnKjA32USss+cYUUlUc4eiku0P6fVUzyhVrad0xnSTFr1Pby83lroHTeJTc0wmEetMNRNUPg+VoNXkzdDNTPI1RDok6RyjCvyoeaH+donqAIStIVN8HDWfkw0w6R5cTO6OtKqNYccjmahEVVChQo2QjmGbGFafc1I2eHKM6FoeNtmp+ztSCWJNt7pu4MSuWzFQUXSt9DnOdG2Lzmm00nUGAAAAUHecwm2Jq6++Onf06FE7Vl/S3aJK42boTtupU7lEq+TCA4mcU3gz81oTztQCp0BbWM8zT20v3B3NOcWawvRD0cKyzuAUrNSShW1LOJc4bY8lfwyzHJu7Dz1Ena3Vp3/4h3/IvfOd77RjfidOnMi94x3v0Odw4MABO3Xx/fKXv8xdeumldgzwM8+2eSYxu/e85z25L3zhC3YMAAAAQEPVGFHV4iMZ262nSg5Z1AVmtn9INrjdlkpcQu43wqMx/Q247jrTGdLtnnmO7IhIQs0b75NmGZNYV6aQO0F/K77NmdohSZ0YUn1rXPrN+KzH5u5Dd6maKtPtZ/0aHx+Xd73rXXLttdfK9773PbnyyivlpptusnOBpeQ2cSk0jzGJVcs1cQEAAACA2TVQYMR0lxru2SQmRaPpptPXBWZ3wgYsmqVvVzTfxl91LRoe2JmvAq97m3Db/ytut5pahyQ9XbBOn9J9YMxi9mMr7L9ZwkVpI+rV5OSkdHZ2yoYNG+Q73/mOnDt3Ti699FL5zGc+owumQAk3n8YMgxvMqJ3zbB80vcW4TZoqNx+amcmLMsNQptkSAAAAgOWpSVUbsZ/zwuGw3HvvvXLdddfZKfVgTGJNEZFDuXy+AFVLIzTcK1Pjm+RAW0iGeqYKPVuoAlrLCUnkdkrWmae7y/QxNT/CO5yClaQ9uULUN9KF5cOtYclOqNomTsFLb3NIem2NEVWwMuvKnI6tsN5ci3KL77777pMvfOELcsUVV8jBgwdlxYoV8uyzz9q5IqtXr5bbbrtNFx6Xym9/+1v50pe+JH/4wx/sFAC1uuWWW+T666+XW2+91U4BAAAAgq2BaoyYnh8yp2b+HtdUqbeybreqpoaGSsCom8bkhxkSRY5uk/hENN/sZnJXNdU7Zj+2RrNy5UpZs2aNHQMAAAAAYJlyCv8l6jX5qk6ymE+capKhmsSoJsFpIampHXcToOpkqoWEpyZZoxkvTqBqlnUTORZt93QiF/YkefSuO9uxmc9GyT7riDf56qlTp3I33XRT7qKLLtKDul1UEtSvfe1rev5SIfkqsHBIvgoAAAD4NVTyVdVdqk6cqvMARCTVnS40nXGEu0Xiel5I4uLpHrMzKVMDmXy3m6F+mTknQedOSbS6XYFGRHapfAYZyZ5x5q3bJL12XnGuhNmOrRFdddVVujnNT37yE3nnO9+pa5Go5ix33HGHrk0DNAqdT6SBEh4DAAAAWDoNFRhROoY9zWGKc3S07ZRJd57uYaZABS7y63ma0ejt+bbTLH3jnuU6+5xtussX5qlcIsXrlj82s443SFK6z/r22te+VkZHR+Xhhx+Wd7zjHTI9PS3f/OY37Vw0PJ0wdb0MquDfLC5EgGGh90mQBAAAAIBXwwVGcOFcc8018u1vf1tOnDghDz30kJ0K1L9GC0YCAAAAWDoERjBn7e3tMjg4aMcwL25tjd0x3cxLDet3e5P4ql6SzHQzxGw302Z6rMeuZ2tAqN6Q8st6upw1tSRiEstvx60hMiaxlrhknX/xlsq1RtS2IyPOh5FIocbFaOG41ZA/dn1ezv7Ufp3ppumZ91zWO/OcYy0+RndbnvMp2WcFvm2UnP9Y+e3pY3XXq67mDAAAAIDlY5kERkqbqwCNIyvx4Q0ypZpgnU6I9IfyOWymd0ck3p62TbSmJNGakrgncJLK2PVUbYjRmIT6VdfSatmcyXnjDSaMZGTDaTuv29nnRhU46JCks8+w7b66bE9Nls6j0+186Ha7mh6TWFfGWc9sM3coKtn+bTZwo6Qk02Z6g1JNz/S5qNw/+vic8xwp9CKlAxYZd55znpmIDrKU7rMC5/wL2zDnH/EFmWY4h5a4tB9yz6Fd4i1u8AkAAABAEFBjBKgD0V02J866Pkk4BffU/aZornPj5AMCWTkxYT9a4Z5NZj3H2P0pCQ/szCcV7rgzIeGRZKGQ353IBz7CbWHzYV46JOnJ1zN9KmM+5IWld6N7dNNyYDjrOd4O2TngHoOZl78GKtC5KyrZ4QP5Gh9Vm4jLNhtUUs1nZg2WjiYl1ZqQnZ12XCdfTkmyKLkyAAAAgOWLwAhwwYVlgydO4Qta+JqqxCXTaqeXmJZsRiTbHyosr5vI2B6VFoW/mU9k2E4uywR12q8uF6gw81JdhW01daVEJk44c+agM6lrrXi3U9x7VDEdzJlwe5NSQ0jizrFkTs05JAMAAACgQREYAS64rJzwRACy4+7ItAxuVbVATHOUXC4tvXZOqWYJt4tnWXeo3DxmXka3SXwimm+6M7nLOYAZhWVD60wBBzMv6jZnyQ8zdKldiQqO2PWnBsKS6qrcLKb5aueYWwvNb9yBZnkAAABAcBAYAeqA23RGJQKNj4hENxdCAvlAiQ5EmI/ldGz25/gwiVgXO1+GWyPFBHFm1iybesKe5jFjsq3fDQCZeamtRclSPclTq6HP17OOCXpskIqNhjpjEvU0v3ETsc5W0wQAAADA8kFgBLjgwhKVuGnK0RIXGZjSyUpVwEDl2tA9qKh598d04tBCjZIinUmZGshIxDYLCfWLJE5XUeti3SbpbVW90piAgA4wzNADjAq+6ONRAQidj8Os19QUEdmlkrjO3HSneUtaEs55mmYrSdmQzzGi5k2aZLH22CMjUUmPm5wjvn2axcsq3kaTSgx70M1bUuDfnkk+m3Gb3/iuPwAAAIAgaMqpeuNFwuGw3HvvvXLdddfZKQiK++67T/bv3y8PPPCAnXLhPfbYY9Lc3CxPP/20nbKMqBoKLUPSO0uPMEtrTGI9IsnZeoGZJxWACY0nZu9tBgvqlltukeuvv15uvfVWOwUAAAAINmqMAPAbTYp4mvIsFNU8RnXBa8d0U5qF6R0HAAAAAGpHYASAX2dyUZqSqO6DJd9rTkRS3em5JTm1+T/M+qUDeUEAAAAA1ILACHAhreuTycXsOaae6HP19P4y1yY0xesXDeQFAQAAAFALAiMAAAAAACCwCIwAAAAAAIDAIjACAAAAAAACi8AIAAAAAAAILAIjAAAAAAAgsAiMAAAAAACAwCIwAgAAAAAAAovACAAAAAAACCwCIwAAAAAAILAIjAAAAAAAgMAiMAIAAAAAAAKLwAgAAAAAAAgsAiMAAAAAACCwCIwAAAAAAIDAaso57Oe8cDgsV155pR1DED3wwAP204X32GOPSXNzszz99NN2CoBa3XLLLXL99dfLrbfeaqc0jn379tXVuwlL75577pFQKGTHlqcdO3bI0aNH7RiA+Uqn07JiBd8FA6isbGDkvvvus58QVO95z3vspwvPDYzcdNNNdgqA+WjkwMjx48flz//8z+0UBMnf/u3fyrFjxwIRGHniiSfk9a9/vZ0CoFbqy4Bz584RGAEwq7KBEaCeqMDIN7/5TTsGLJ1HHnlEnnrqKbnmmmvslOWjkQMj+/fvt1MQJGvXrg1UYGTv3r12CoBaPPnkk7JmzRoCIwCqQmAEAGZw7bXXyq9+9SuZnp7mj6o6QGAk2AiMAJgLAiMA5oK3BACU8cMf/lAmJyfl17/+tdx///12KgCgnoz1NElT0wxDz5hd6gI6MyjrvcfUNijTdtb07vV6WmzUTgAAXDAERgCgjNtuu01+97vf6eFjH/uYULkOAOpPx3BOv59zubRE1YTWhEzpcWcY7tDLLBkVBPEFY8Yk1hKXrHtMh5wjnIhLaMaAjbO8J3ACAFg6BEYAoMg//dM/6eYzLpXn5sCBA3YMAIAiKiiigiB2VDuTlYz62R6WZvWzM+kL2DRvmdTjyU41Niaxpoik9BwAwFIjMAIART70oQ/pmiIu1VX0li1b9B+wAIDG4TZXcYf1u92gtwpEqKYtMYm1qXnrZfBM0fI9zjy9jKcWx2isMN+uk68Zoj6ORJzpMWeKh5pWppZIoSnNtAy22aCIqlGS366a7u7LGeqhaRAALFMERgDA43vf+16+tsjKlSv1oDz++OPyrW99S38GADSA0ZiE+rMSPWSa1qS7RbL9ERt0sCYysuGgmj8pfTIoEWd56U7r5afaMv4aHCoo0pWS8MCU3V5W4i0qCNIhydMJCatl9LpJZ4pjXZ8knH1qOmAyUz6RZukb9zYFco5lnQqKhCQ+EZW0s6+c2r6zjUJgBwCwkAiMAIDHRz/6UV1DZPXq1fK2t71N3vGOd+jPqgbJ7bffbpcCANQ923Rl5ylTMyMyYqd7tfbKpnXm4/TBIV3rI7rZbeqSMMEKa+x+FSYJS+9G3TBGOjaruSlJVkieqnKgTA3okImW6vLWWqngzAEZmnB+dsdskGWT9LaKZIcPkIMEABYBgREAsFRtkZ/+9KfyyU9+UucVue666+R1r3udri1y9913y6OPPirf/va37dIAgLpmm72E+tt1rQtVY6SS7LgKi4RlQyGOUYaqJWKbtnSZ+iSZU5VDFW4uEXf/2f5t/qY2ldiaJk1NqvaIMz5xwp/HBACwIAiMAIB19uxZ+dnPfiYf//jH5XnPe56dKnLppZfKHXfcoYMmTz31lJ0KAKhnbg2PxGnbtGUW4TYVEcnKiYqRB7U90zTHHSa3mBoks+kYnpJEqx2plm3WUxiqOxcAwNwQGAEA6+abb5YXv/jFdqyUmrd582Y7BgCofzbQcWZQ4uWa0ng0b+zVeUJS95v6HNO7474cI6bpTFaGDpoaImM9qiaHTZS6LiztemqBm1y10HTGORZV66N1g96PX1g2eIMmtumMjCRN7RLV642qOUICVgBYFARGAAAAsOx0DJuEpiqvR1NLXNq7TWBjxhoh6/okrfKB2OYrEen15RjROUsORSXbHzLzR0Sih1SiVDWzQ2KqqYxe1wRLVBMalV/EXb5JdcerkquO95nue32aZVOPs2/dK41K0qoSsqoaJimJqHVVrzdqXdvVLwBgYTXlVL08AECJu+66y/cTF9a+ffvk+PHjsn//fjsFQbJ27Vo5duyYhEIhO2V52rFjhzzxxBOyd+9eOwUXjurSNyIp1ZyFgETDefLJJ2XNmjVy7tw5WbGC74IBVMZbAgAAALDJWpvaBk3PL2eyknF+mNwjAIDljMAIAAAA0Jk0PcfY5iy6+Up3uurkqgCAxkVgBAAAAHB0DHt7gHEGmtAAQCAQGAEAAAAAAIFFYAQAAACNQ3dda7vJLaESpqpeXexo1aZlsM3bte7C0F360sUuANQ9AiMAAABAA5revb6QLNZBIAYAakNgBAAAAI1jXZ9M5ialb50dr2M6Zwl5SgCg7hEYAQAAwAJxm6QM6iYtvu5v7bxYj+0W19Zs0LUeipct01wmXxuieJ7bza7eZtJOdJmmNe58XxMbvR07r22bnLCTKyttclOopVF6ftXW4DDLDer1zbHGnCMv0PPdY3XP3TnvUH/W9KLjXLf/61zHyIgzfSRS2Kf3HIuvWVtMYnp/zvTvm2sa6/H8Lqo4bgBYLgiMAAAAYEFl+4dkw2nVs8uUJMQpuHsK2anMBplye3zRhft2SeteYDzLrtskva1ZGTqYbyQiSafQH91cXPtiTGJdKYkeUuvnZKotIyk7xwQqIpIZmDI9zJxOSKbLDQ448zbGRdx5u5zjmtArzZvv/OZiJC4ndpnzSHenJOIGiZxrFMkkzDb1vKzEdzjXqDMpUwNhkVZn3nifvGnLpOluuDtt9+1cm5a4tNtrkzvULvEWT8BlwrlSen+T0vd/1ISsc+0SZlnnWoVHIjXkagGAxkRgBAAAAAurO2GbujRL366oU+hP5gvk4Z5NzlRj7H6ncN4dExNC8C7bLJt6wpIdPmCCA2eykmlNyM5OvWDBaNIpzEclZqc3b0k4Y9aZAzI0EZXEFru3dX2S6LbBFj0vLL0b7bzOnZJoNR/ny3t+c+I5v447ExKeGJIDKojTmZTceJ/d5rRkM/rD7NS18V4zfY4pSeaDHYXrZoQlcacN5qwLS7v5BACBQGAEAAAACyrcFrafHOENTpG7HFPI9y3roYMcNjgwfXBIpEzAYfqUs4FW7/bDssENcGRP6DoQkXxTkibd1CQ7nrXz2iWcz1PSLOELHQloDxfOzxuY8DWHiYhzJaqir41qZpNfNyTxCZHMqUIzIACAQWAEAAAAC0oHH1w6CFGOCUb4lvXpkJiu4TEmB4alULvDo/lqZwMT3u1n5YTbJEYHZKK2mY5nUM1M9LyMZN2cG3OpibFYMllTO0ZRNWTsx7Edccmq5jH6+CclUWUAR18b1cym6Pwn3Ro0AIA8AiMAAARFmYSWy81TTz1lP+GCyjedmZbBrd7mMn4dm73NbEqXVfOz/RGJt7tNc4p0xiQqKYm7yVB10xpL5ynxzHP2ohKx6sSpNoeJztWh6KY15mNlNpjjNvFxtqlynywIt+mMQwdDWntlk3vObtDEeYbj1e5PXZuJuGxzm87YmifkDQGAUgRGAACYM1PAWtoCxkLv80Kcw+L57ne/KzfccIP84Q9/sFNwIYW7ReLO/aWbb0hCpmZKRKoTiGZsc5cyy+rAR7mkq64OSZ5OiPSHTHORrc6y+VwhzdI3npZ2d15TRFLdaVtjwsyLqh5c1LyWE9KuEpdWweT/cJuoJGWDSoC6ELrb5USL2qZq8hOVtM0r4tvfRpGE2p8NlDRv7LXzTFJVE2hyzkknbjXXJtNlttnUYpLNJovztAAApCmn6tQBAErcddddvp+4sPbt2yfHjx+X/fv32ykXkgoqREQO5ZawkLHQ+7wQ51C7tWvXyrFjxyQUCtkphgqI3H777fKTn/xEPvzhD8tnP/tZO6cx7dixQ5544gnZu3evndJoVE8wIRnqmaLJxhyo7ngj4vYmg4Xw5JNPypo1a+TcuXOyYgXfBQOojLcEAABzYroAVdX1U12FGheqYGO+lVZDobmKmr6+J2aSJ3q638wv68zz19wwNTnc+WZ6+X3OTC1f2EaT21VqvilN+e1N715fWMc91jp15MgRufbaa6Wzs1P+9V//VVauXClbt261cwEAAKpHYAQAgDmxVfCdT1G3tsVoTCKZQpLDdLcnd4EjOyKSUPN01fgxiXWl9Lpq2am2TCEngg2AZAamTKJEXQ1eBTLK7LOC6d0qJ4ObrHFKEplIUTCl/DmE+tvziSrT7XEJuQGVOvLQQw/J61//ernxxhvlxIkT8swzz8jFF18s73//++WKK66wSwE18vUAUzrMHpQspyhQWTzU4XMGAEFDUxoAmIFqQvODH/zAjuFC+8UvfiFveMMbGqApjSoEhUxgYrijtIq8qi3SJZLOJW2CSc+2wk6hrOWEJPLzTI2TeJtqlpCtuumLqvkR6hdJnJ70J6xUhb6WIenV0/3nUNiPbf6gl/Ufy4V02WWXSWtrq/zLv/yLPPfcczp441KFyz/6oz+Siy66yE5pXL/+9a8lGo02cFMaoD7QlAbAXBAYAYAZqKr6qB8HDhyQs2fP1mdgRAcR4rbL0LCEW7OSnSEwooMWw70yZRMr+rYlKmhSqD+Sp7rqHJaqAyOKCY64nZiGTZBEZgqM2GBOSa8cdr1yvYEsMZVjZHh4WD7/+c/Lgw8+qAs758+f1/MuvfRS+fjHPy5ve9vb9Hgj+8pXviLPe97zCIwA80RgBMBcEBgBADSEek6+Whz88I4Xz5trjZGComDMHOhjUE19DopEqq0xUme8yVf//d//Xe644w554IEH5Nlnn9UBkle84hXy85//vOELQI2ffBWoDwRGAMwFbwkAABaC7T5T1R6Jj+gp5enuR1OSzCc8jRdyjKzbJL2tKYnvdtOequBFk6zPj1dHBTm8eQvCbWGR9rCtoVKe6uYz27/N2aNhErGaLkDrzVVXXSUHDx6UbDYrN998s6xatUoeffRRSSaTdglgaennxU1YbPOUlD636nkuJGY2zDNeyDnif+aKn2WvmeZ5p5vn2N12YfDlSrHHW2458p8ACAoCIwAAzFmHxLpNjy6q8NNxZ0LCE3EJqYLERpHEQLgQKCnRIclDUb2uKnhEpFcnQTVMUtT2/pAtmEQk1Z22tTj8+6ykY9gkXHULNzqpqltjJa9oe51JmRrISCS/jspRUh/5RWbS3NwsX//61+WRRx6R7u5u+dSnPqXzj+BCMgX92pKULi/eQGNZOiDhSbbsDOYZXOCAZGshMbQe7PvH/ztSzeY8y7hDyXsDAJYnAiMAANSgY9gUHHTQYl2fTLoFifE+6dgyaXugscsVFy46k/mCx+SWsDMhLBvUD61Dku621OBZ17fPilSAxbMNt2mOPs5CzpDi7TWr486vUx+5Rarxyle+UucfUcmSH3vsMTsVuJBUrqGURCrUuBjbEZdsPvBpNG9JS8JXa2wR6CBoWFJb67tLbgBYSgRGAABYSvpb4sI3wqYpTbuEGyQIUc9e+tKX6iAJLhTT3bRqGqZrJHzZf6+b+bamgn4O1svg7li+ZpO/JpS/iUl1NVCKm6W4g2q+YrvMdZu7ONzmYttV0xPvcao8QGqd75smJoXjstuosnlJ766EhEeKu8p2jUlyRCS6ubhGhglqzh78nJ/mq9tFJk7YhNEAAAIjAAAspXV9kuhOzavJis4hkC/0FQ2egh+wtExTMNU0LKqS+r7f5Mxx8+nImQMyNBGVWD55cFbiwxtMM4/TCZH+kA0imABLvomJMy/TVZybo5yi2lb5QdV+Usc2JQmJS0QFOs4MSsQ+e58YzklaPZM64DEmsa6Uc/zOOm/tk0l9XBG97+ndEWfthExV27wk3CfpmWpmnMlKxldTbImFNzh7z0g2f02d30VL8fukmmsOAMsDgREAAJaY24SlUGizM6rkX79oyHcDDFxozbKpJyyp+00Ni+mDQ5LtjvmCgNFd9n7VAUMxy9oASsKtNaHnZWXo4HxDfs3Sd9AEYJpa4iIDaU+zsrRER1ReHpPXJ9/zk7Pv9IDooIEOYh6c2/Olm8a4wZi6Vi7HSOM0pwOA+SIwAgAAgEXRvLFXwiNJ3UwlO54tajrirzGhe09SsqqJR6FWlRoiI2b9yio1pbGL2ACMSkia9jVX6ZCdKmmyREsSFTdvSehaMGFPIKV6zdK3S/X4ZGqd5K0LS7tzlifm0ZZFX68ZkzzPQl9jmvABgIvACAAAABaH7YI6Oapyanib0Sj+wEA+8KGbeUQl7au94AyzNmGp1JTGLjIak8hI2Nl+US0O27SmXMLUsZ6IpFrD+SY1c9aZlHR3VuI7vN1J216hbG0ar0pd9M5uWrIZT5BpBmP3p0Ra1XUGACgERgAAALBIbHOaLhVcKC2I5wMDZwYl7iYjtcGUQs8spibIbN1Uz66QP2RSN6lxAx3TMrjRNK2ZVDlSvAlTdSAlKunxSdOkZmNtOXxMU52UTkzr0t18O/vynZcN3CTunC0IZGvjTBQFeEa3SXwiLL0bKzT40fvwNGMCABAYAQAAwEKxNSG6CoEMXYB3foZ7NhUVxFW9kLhp7qJzfkzZ3B4miWu7ygWim8KYvB/z66lFBVc8+UPyuUPeLe9rC+mkqqZpTYckD0Wd418vg1+OSZMOpJjkyG6+kJCbpHVOyUndpjoezjFM5rzn6QxdIuni3B4694mdrwe7X7W+TVpbWD8jidNF6084x+xdXy+TK+RR0colX3UGkjkDCIimnKpjCABAndu3b58cP35c9u/fb6cgSNauXSvHjh2TUChkpyxPO3bskCeeeEL27t1rpywHKogQlw3eArvqrrdlSHqLC/HAAnnyySdlzZo1cu7cOVmxgu+CAVTGWwIAAACLZzQpqdZe2UQABABQpwiMAAAAYFHoRKKq6cYcu7ktS9UyKW7q4RnyeUEAAJgjAiMAAABYFB3DRb3CuHR+jTk2o9HrFPc4Uxj8OTMAAKgegREAAAAAABBYBEYAAACARaKbE+mebObKdFNcU7Oh0ZizXMzZAgCgGgRGAAAA0PBqD0DUZnr3+iXpzjZ6iGZDALDYCIwAAAAAAIDAIjACAACARaNrcrjNQNwaHbqph7dJiGk2sn63rX9h57tDfrri651mvQyeMbU3IiPOvJHI7LVGbDOTQVXjw25HHYf3OL1NVXzHb/enthHqz4pMxCWUrzXib/rib+6SlcG2om04axWm+YdZm8q4Kl2nvKL9+K5PpWMGgOAgMAIAAIBFoQMWmYRM6SYgU5LIREzhvTMpuUNRSXWZPBhjPRFJdadlcovq1NcprKsufk/bpiPOctn+bXo5Pa8lLu1u85JD7RJviUl2y6Sku53ZzjZywx16ycpSMiTOss42pgbCznE0SXKz2abaTmqrDXaMxjzHr+ZlJb7DORLn+NV60urMG1ddEavgQ0QyA1PmuE4nJNPlBkAcI0MiBz3b2Ki23yx942Za8eBtKqOOLR/UcIZC8KPSdSqY3h2ReLs5V/d3YAIgsxwzAAQIgREAAAAsgmk5MJyV6C4VOFCapW+XU3gfPmCCDp1JSXenJOIU9iMjUUnnAxodkvR05Tt9KmM+KKNJSUlUYm7gQAVYcklnjbmKSkIHYZyjurpdj7vbDLeFzQdFbV8HPpRpyXoOxefMARmaCEvvRrNkSXfE3Yn8Z9/2q1CcY8QEj5QK16nYSNwGPEwwRgde9DEXroM65kR3VoYOlqt1AgDLG4ERAAAALIKsnJgoqvHQlRKZOOHMMTruTIgKE0QPeYMb/qYfkWE72aEL/60b9DpLwtdsJyJDdnKJrDqndgm7gZCqzLcpzczXyat5y6RMDYjEW9xlba0QfcwmMJXfxogzedz97QBAcBAYAQAAwCIIy4bWcr2quEEQp2C/MS7SqpqyeLqWHd0m8YmopN0aErtUjQ5D1+7wBFYW29iOuGRV8xx9LJOSKByKX1gFazKSnVMzlOqa0syownUqpoIj7rbzTXn0MRfWzw9VNUUCgOWFwAgAAAAWQbNs6gkX8nU4dCJTm6xU576QhKTHVX6QlER8SUHdIMO0DG5N6SlaZ8wpyqck6dao0DU6FjkvRiZrjt/ZV1wleC1n3SbpbfU2QzFJTRc/mekM18mjuBtj3ZSnPSzN+phTEvfmLHGOuXwCVwBY3giMAAAAYFGomgrp9riE8k01opIe7xPZvV5C/SKJgyZ/R8dwWqIjbmLWnZJozdqmHxGRXaq5jRsA6JCkThJqttekE7GaPBsdm6OmV5p8LzHzp5v6qJ5n1L42OserEq7aQEnzxl47T9V2UbU/0tLeH7LNUkxS06pqftSq4nUq6Bg2CVfd5jKh/nabz6X0mAsJcAEgWJpyqs4cAAB1bt++fXL8+HHZv3+/nYIgWbt2rRw7dkxCoZCdsjzt2LFDnnjiCdm7d6+dAqAWTz75pKxZs0bOnTsnK1bwXTCAynhLAAAAAACAwCIwAgAAgOVjNJZvNlI6LHI+EgBAQyIwAgAAgOWjM+nvZcU3mHwkAAB4kWMEANAQVI6R22+/3Y4hiE6ePBmIHCN33323HQMwH7///e/JMQKgKgRGAAAN4bHHHrOfEGQve9nL7KflifscWFhXXHEFgREAsxD5/wFtXvoikSCScQAAAABJRU5ErkJggg==)"
      ],
      "metadata": {
        "id": "zo-GUALLLhUH"
      },
      "id": "zo-GUALLLhUH"
    },
    {
      "cell_type": "markdown",
      "source": [
        "# 2. 코드 이해하기"
      ],
      "metadata": {
        "id": "aUyLguq_MMKT"
      },
      "id": "aUyLguq_MMKT"
    },
    {
      "cell_type": "markdown",
      "source": [
        "## 2.1 라이브러리 설치"
      ],
      "metadata": {
        "id": "kRrYV345MQEG"
      },
      "id": "kRrYV345MQEG"
    },
    {
      "cell_type": "code",
      "source": [
        "!pip install google-cloud-discoveryengine"
      ],
      "metadata": {
        "id": "AHF7bEHnfdL1"
      },
      "id": "AHF7bEHnfdL1",
      "execution_count": null,
      "outputs": []
    },
    {
      "cell_type": "code",
      "source": [
        "import IPython\n",
        "\n",
        "app = IPython.Application.instance()\n",
        "app.kernel.do_shutdown(True)"
      ],
      "metadata": {
        "id": "iLdBBpn3fdko"
      },
      "id": "iLdBBpn3fdko",
      "execution_count": null,
      "outputs": []
    },
    {
      "cell_type": "markdown",
      "source": [
        "## 2.2 client 생성"
      ],
      "metadata": {
        "id": "8BD9wwHZMTdf"
      },
      "id": "8BD9wwHZMTdf"
    },
    {
      "cell_type": "code",
      "id": "b3tpYqwVHNWbHOZBanblrD79",
      "metadata": {
        "tags": [],
        "id": "b3tpYqwVHNWbHOZBanblrD79",
        "executionInfo": {
          "status": "ok",
          "timestamp": 1737085328092,
          "user_tz": -540,
          "elapsed": 9,
          "user": {
            "displayName": "",
            "userId": ""
          }
        }
      },
      "source": [
        "PROJECT_ID=!gcloud config get-value project\n",
        "PROJECT_ID=PROJECT_ID[0]\n",
        "LOCATION=\"global\"\n",
        "DATASTORE_ID=\"public-web-datastore\""
      ],
      "execution_count": 1,
      "outputs": []
    },
    {
      "cell_type": "code",
      "source": [
        "from google.api_core.client_options import ClientOptions\n",
        "\n",
        "from google.cloud import discoveryengine_v1 as discoveryengine"
      ],
      "metadata": {
        "id": "pzPVMelKfRes"
      },
      "id": "pzPVMelKfRes",
      "execution_count": null,
      "outputs": []
    },
    {
      "cell_type": "code",
      "source": [
        "client_options = (\n",
        "    ClientOptions(api_endpoint=f\"{LOCATION}-discoveryengine.googleapis.com\")\n",
        "    if LOCATION != \"global\"\n",
        "    else None\n",
        ")"
      ],
      "metadata": {
        "id": "tIXoViBUfqry"
      },
      "id": "tIXoViBUfqry",
      "execution_count": null,
      "outputs": []
    },
    {
      "cell_type": "code",
      "source": [
        "client = discoveryengine.SiteSearchEngineServiceClient(\n",
        "    client_options=client_options\n",
        ")"
      ],
      "metadata": {
        "id": "oyIvtBgmfg0Y"
      },
      "id": "oyIvtBgmfg0Y",
      "execution_count": null,
      "outputs": []
    },
    {
      "cell_type": "markdown",
      "source": [
        "## 2.3 패턴 등록"
      ],
      "metadata": {
        "id": "75xSYj28Me85"
      },
      "id": "75xSYj28Me85"
    },
    {
      "cell_type": "code",
      "source": [
        "parent = client.site_search_engine_path(\n",
        "    project=PROJECT_ID, location=LOCATION, data_store=DATASTORE_ID\n",
        ")"
      ],
      "metadata": {
        "id": "ZHs30Jx8flcs"
      },
      "id": "ZHs30Jx8flcs",
      "execution_count": null,
      "outputs": []
    },
    {
      "cell_type": "code",
      "source": [
        "uri_pattern = \"cloud.google.com/generative-ai-app-builder/docs/*\"\n",
        "\n",
        "target_site = discoveryengine.TargetSite(\n",
        "    provided_uri_pattern=uri_pattern,\n",
        "    # Options: INCLUDE, EXCLUDE\n",
        "    type_=discoveryengine.TargetSite.Type.INCLUDE,\n",
        "    exact_match=False,\n",
        ")"
      ],
      "metadata": {
        "id": "Ao4Xo0rmfxKs"
      },
      "id": "Ao4Xo0rmfxKs",
      "execution_count": null,
      "outputs": []
    },
    {
      "cell_type": "code",
      "source": [
        "operation = client.create_target_site(\n",
        "    parent=parent,\n",
        "    target_site=target_site,\n",
        ")"
      ],
      "metadata": {
        "id": "qWCViAi7gSks"
      },
      "id": "qWCViAi7gSks",
      "execution_count": null,
      "outputs": []
    },
    {
      "cell_type": "markdown",
      "source": [
        "## 2.4 결과 확인"
      ],
      "metadata": {
        "id": "M47zRzYKMo19"
      },
      "id": "M47zRzYKMo19"
    },
    {
      "cell_type": "code",
      "source": [
        "print(f\"Waiting for operation to complete: {operation.operation.name}\")\n",
        "response = operation.result()\n",
        "\n",
        "# After the operation is complete,\n",
        "# get information from operation metadata\n",
        "metadata = discoveryengine.CreateTargetSiteMetadata(operation.metadata)\n",
        "\n",
        "# Handle the response\n",
        "print(\"==== response ====\")\n",
        "print(response)\n",
        "print(\"==== metadata ====\")\n",
        "print(metadata)"
      ],
      "metadata": {
        "colab": {
          "base_uri": "https://localhost:8080/"
        },
        "id": "8lj2wMK-gZ3E",
        "executionInfo": {
          "status": "ok",
          "timestamp": 1737012608644,
          "user_tz": -540,
          "elapsed": 2,
          "user": {
            "displayName": "",
            "userId": ""
          }
        },
        "outputId": "77447711-85ad-40cf-c4a4-9ac15f6fb5bf"
      },
      "id": "8lj2wMK-gZ3E",
      "execution_count": null,
      "outputs": [
        {
          "output_type": "stream",
          "name": "stdout",
          "text": [
            "Waiting for operation to complete: \n",
            "==== response ====\n",
            "name: \"projects/429718924597/locations/global/collections/default_collection/dataStores/public-web-datastore/siteSearchEngine/targetSites/00062bcdc33fc475Y2xvdWQuZ29vZ2xlLmNvbS9nZW5lcmF0aXZlLWFpLWFwcC1idWlsZGVyL2RvY3MvKg\"\n",
            "provided_uri_pattern: \"cloud.google.com/generative-ai-app-builder/docs/*\"\n",
            "type_: INCLUDE\n",
            "generated_uri_pattern: \"cloud.google.com/generative-ai-app-builder/docs/*\"\n",
            "root_domain_uri: \"google.com\"\n",
            "update_time {\n",
            "  seconds: 1737012604\n",
            "  nanos: 290000000\n",
            "}\n",
            "\n",
            "==== metadata ====\n",
            "\n"
          ]
        }
      ]
    }
  ],
  "metadata": {
    "kernelspec": {
      "display_name": "Python 3",
      "language": "python",
      "name": "python3"
    },
    "language_info": {
      "codemirror_mode": {
        "name": "ipython",
        "version": 3
      },
      "file_extension": ".py",
      "mimetype": "text/x-python",
      "name": "python",
      "nbconvert_exporter": "python",
      "pygments_lexer": "ipython3",
      "version": "3.10.10"
    },
    "colab": {
      "provenance": [],
      "name": "11. grounding - datastore - web"
    }
  },
  "nbformat": 4,
  "nbformat_minor": 5
}