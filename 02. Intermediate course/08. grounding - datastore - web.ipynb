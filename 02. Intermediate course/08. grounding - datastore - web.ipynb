{
  "cells": [
    {
      "cell_type": "markdown",
      "source": [
        "# 1. 이해하기"
      ],
      "metadata": {
        "id": "BzmfufVGMJnc"
      },
      "id": "BzmfufVGMJnc"
    },
    {
      "cell_type": "markdown",
      "source": [
        "![image.png](data:image/png;base64,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)"
      ],
      "metadata": {
        "id": "N7Gwltn93bUW"
      },
      "id": "N7Gwltn93bUW"
    },
    {
      "cell_type": "markdown",
      "source": [
        "# 2. 코드 이해하기"
      ],
      "metadata": {
        "id": "aUyLguq_MMKT"
      },
      "id": "aUyLguq_MMKT"
    },
    {
      "cell_type": "markdown",
      "source": [
        "## 2.1 라이브러리 설치"
      ],
      "metadata": {
        "id": "kRrYV345MQEG"
      },
      "id": "kRrYV345MQEG"
    },
    {
      "cell_type": "code",
      "source": [
        "!pip install google-cloud-discoveryengine"
      ],
      "metadata": {
        "id": "AHF7bEHnfdL1"
      },
      "id": "AHF7bEHnfdL1",
      "execution_count": null,
      "outputs": []
    },
    {
      "cell_type": "code",
      "source": [
        "import IPython\n",
        "\n",
        "app = IPython.Application.instance()\n",
        "app.kernel.do_shutdown(True)"
      ],
      "metadata": {
        "id": "iLdBBpn3fdko"
      },
      "id": "iLdBBpn3fdko",
      "execution_count": null,
      "outputs": []
    },
    {
      "cell_type": "markdown",
      "source": [
        "## 2.2 client 생성"
      ],
      "metadata": {
        "id": "8BD9wwHZMTdf"
      },
      "id": "8BD9wwHZMTdf"
    },
    {
      "cell_type": "code",
      "id": "b3tpYqwVHNWbHOZBanblrD79",
      "metadata": {
        "tags": [],
        "id": "b3tpYqwVHNWbHOZBanblrD79"
      },
      "source": [
        "PROJECT_ID=!gcloud config get-value project\n",
        "PROJECT_ID=PROJECT_ID[0]\n",
        "LOCATION=\"global\"\n",
        "DATASTORE_ID=\"public-web-datastore\""
      ],
      "execution_count": null,
      "outputs": []
    },
    {
      "cell_type": "code",
      "source": [
        "from google.api_core.client_options import ClientOptions\n",
        "\n",
        "from google.cloud import discoveryengine_v1 as discoveryengine"
      ],
      "metadata": {
        "id": "pzPVMelKfRes"
      },
      "id": "pzPVMelKfRes",
      "execution_count": null,
      "outputs": []
    },
    {
      "cell_type": "code",
      "source": [
        "client_options = (\n",
        "    ClientOptions(api_endpoint=f\"{LOCATION}-discoveryengine.googleapis.com\")\n",
        "    if LOCATION != \"global\"\n",
        "    else None\n",
        ")"
      ],
      "metadata": {
        "id": "tIXoViBUfqry"
      },
      "id": "tIXoViBUfqry",
      "execution_count": null,
      "outputs": []
    },
    {
      "cell_type": "code",
      "source": [
        "client = discoveryengine.SiteSearchEngineServiceClient(\n",
        "    client_options=client_options\n",
        ")"
      ],
      "metadata": {
        "id": "oyIvtBgmfg0Y"
      },
      "id": "oyIvtBgmfg0Y",
      "execution_count": null,
      "outputs": []
    },
    {
      "cell_type": "markdown",
      "source": [
        "## 2.3 패턴 등록"
      ],
      "metadata": {
        "id": "75xSYj28Me85"
      },
      "id": "75xSYj28Me85"
    },
    {
      "cell_type": "code",
      "source": [
        "parent = client.site_search_engine_path(\n",
        "    project=PROJECT_ID, location=LOCATION, data_store=DATASTORE_ID\n",
        ")"
      ],
      "metadata": {
        "id": "ZHs30Jx8flcs"
      },
      "id": "ZHs30Jx8flcs",
      "execution_count": null,
      "outputs": []
    },
    {
      "cell_type": "code",
      "source": [
        "uri_pattern = \"cloud.google.com/generative-ai-app-builder/docs/*\"\n",
        "\n",
        "target_site = discoveryengine.TargetSite(\n",
        "    provided_uri_pattern=uri_pattern,\n",
        "    # Options: INCLUDE, EXCLUDE\n",
        "    type_=discoveryengine.TargetSite.Type.INCLUDE,\n",
        "    exact_match=False,\n",
        ")"
      ],
      "metadata": {
        "id": "Ao4Xo0rmfxKs"
      },
      "id": "Ao4Xo0rmfxKs",
      "execution_count": null,
      "outputs": []
    },
    {
      "cell_type": "code",
      "source": [
        "operation = client.create_target_site(\n",
        "    parent=parent,\n",
        "    target_site=target_site,\n",
        ")"
      ],
      "metadata": {
        "id": "qWCViAi7gSks"
      },
      "id": "qWCViAi7gSks",
      "execution_count": null,
      "outputs": []
    },
    {
      "cell_type": "markdown",
      "source": [
        "## 2.4 결과 확인"
      ],
      "metadata": {
        "id": "M47zRzYKMo19"
      },
      "id": "M47zRzYKMo19"
    },
    {
      "cell_type": "code",
      "source": [
        "print(f\"Waiting for operation to complete: {operation.operation.name}\")\n",
        "response = operation.result()\n",
        "\n",
        "# After the operation is complete,\n",
        "# get information from operation metadata\n",
        "metadata = discoveryengine.CreateTargetSiteMetadata(operation.metadata)\n",
        "\n",
        "# Handle the response\n",
        "print(\"==== response ====\")\n",
        "print(response)\n",
        "print(\"==== metadata ====\")\n",
        "print(metadata)"
      ],
      "metadata": {
        "colab": {
          "base_uri": "https://localhost:8080/"
        },
        "id": "8lj2wMK-gZ3E",
        "executionInfo": {
          "status": "ok",
          "timestamp": 1737012608644,
          "user_tz": -540,
          "elapsed": 2,
          "user": {
            "displayName": "",
            "userId": ""
          }
        },
        "outputId": "77447711-85ad-40cf-c4a4-9ac15f6fb5bf"
      },
      "id": "8lj2wMK-gZ3E",
      "execution_count": null,
      "outputs": [
        {
          "output_type": "stream",
          "name": "stdout",
          "text": [
            "Waiting for operation to complete: \n",
            "==== response ====\n",
            "name: \"projects/429718924597/locations/global/collections/default_collection/dataStores/public-web-datastore/siteSearchEngine/targetSites/00062bcdc33fc475Y2xvdWQuZ29vZ2xlLmNvbS9nZW5lcmF0aXZlLWFpLWFwcC1idWlsZGVyL2RvY3MvKg\"\n",
            "provided_uri_pattern: \"cloud.google.com/generative-ai-app-builder/docs/*\"\n",
            "type_: INCLUDE\n",
            "generated_uri_pattern: \"cloud.google.com/generative-ai-app-builder/docs/*\"\n",
            "root_domain_uri: \"google.com\"\n",
            "update_time {\n",
            "  seconds: 1737012604\n",
            "  nanos: 290000000\n",
            "}\n",
            "\n",
            "==== metadata ====\n",
            "\n"
          ]
        }
      ]
    }
  ],
  "metadata": {
    "kernelspec": {
      "display_name": "Python 3",
      "language": "python",
      "name": "python3"
    },
    "language_info": {
      "codemirror_mode": {
        "name": "ipython",
        "version": 3
      },
      "file_extension": ".py",
      "mimetype": "text/x-python",
      "name": "python",
      "nbconvert_exporter": "python",
      "pygments_lexer": "ipython3",
      "version": "3.10.10"
    },
    "colab": {
      "provenance": [],
      "name": "11. grounding - datastore - web"
    }
  },
  "nbformat": 4,
  "nbformat_minor": 5
}