{
  "cells": [
    {
      "cell_type": "code",
      "id": "NrSiukPP8G8a7cxR6XpWut3w",
      "metadata": {
        "tags": [],
        "id": "NrSiukPP8G8a7cxR6XpWut3w",
        "executionInfo": {
          "status": "ok",
          "timestamp": 1737002971509,
          "user_tz": -540,
          "elapsed": 3095,
          "user": {
            "displayName": "",
            "userId": ""
          }
        }
      },
      "source": [
        "import vertexai\n",
        "\n",
        "PROJECT_ID=!gcloud config get-value project\n",
        "PROJECT_ID=PROJECT_ID[0]\n",
        "LOCATION=\"us-east1\"\n",
        "\n",
        "vertexai.init(project=PROJECT_ID, location=LOCATION)"
      ],
      "execution_count": 1,
      "outputs": []
    },
    {
      "cell_type": "code",
      "source": [
        "from vertexai.generative_models import(\n",
        "    GenerativeModel,\n",
        "    GenerationConfig,\n",
        "    Tool\n",
        ")"
      ],
      "metadata": {
        "id": "yxgYr3TQcafy",
        "executionInfo": {
          "status": "ok",
          "timestamp": 1737003037209,
          "user_tz": -540,
          "elapsed": 485,
          "user": {
            "displayName": "",
            "userId": ""
          }
        }
      },
      "id": "yxgYr3TQcafy",
      "execution_count": 2,
      "outputs": []
    },
    {
      "cell_type": "code",
      "source": [
        "MODEL_NAME=\"gemini-1.5-pro\""
      ],
      "metadata": {
        "id": "YYRbX8glcumS",
        "executionInfo": {
          "status": "ok",
          "timestamp": 1737003068077,
          "user_tz": -540,
          "elapsed": 3,
          "user": {
            "displayName": "",
            "userId": ""
          }
        }
      },
      "id": "YYRbX8glcumS",
      "execution_count": 3,
      "outputs": []
    },
    {
      "cell_type": "code",
      "source": [
        "model = GenerativeModel(\n",
        "    MODEL_NAME,\n",
        "    generation_config=GenerationConfig(\n",
        "        temperature=0.0\n",
        "    )\n",
        ")"
      ],
      "metadata": {
        "id": "S5-oqIbKc2Xq",
        "executionInfo": {
          "status": "ok",
          "timestamp": 1737003551856,
          "user_tz": -540,
          "elapsed": 2,
          "user": {
            "displayName": "",
            "userId": ""
          }
        }
      },
      "id": "S5-oqIbKc2Xq",
      "execution_count": 12,
      "outputs": []
    },
    {
      "cell_type": "code",
      "source": [
        "prompt = \"오늘 달러 환률은 얼마야?\"\n",
        "response = model.generate_content(prompt)\n",
        "print(response.text)"
      ],
      "metadata": {
        "colab": {
          "base_uri": "https://localhost:8080/"
        },
        "id": "lqpokMardKHy",
        "executionInfo": {
          "status": "ok",
          "timestamp": 1737003556901,
          "user_tz": -540,
          "elapsed": 3453,
          "user": {
            "displayName": "",
            "userId": ""
          }
        },
        "outputId": "50f44559-5e89-4db2-9205-72611fa5239b"
      },
      "id": "lqpokMardKHy",
      "execution_count": 13,
      "outputs": [
        {
          "output_type": "stream",
          "name": "stdout",
          "text": [
            "죄송합니다. 실시간 정보를 제공할 수 없습니다. 환율은 끊임없이 변동합니다. \n",
            "\n",
            "정확한 오늘 달러 환율을 확인하려면 다음을 추천합니다.\n",
            "\n",
            "* **네이버, 다음 등 포털 사이트의 환율 정보:** 실시간 환율을 제공합니다.\n",
            "* **은행 웹사이트 또는 모바일 앱:** 거래 은행의 웹사이트나 앱에서 환율 정보를 확인할 수 있습니다. \n",
            "* **금융 정보 제공 웹사이트:** Investing.com, Yahoo Finance 등 금융 정보 제공 웹사이트에서 실시간 환율을 확인할 수 있습니다.\n",
            "\n",
            "원하시는 정보를 얻으시길 바랍니다! \n",
            "\n"
          ]
        }
      ]
    },
    {
      "cell_type": "code",
      "source": [
        "from vertexai.generative_models import grounding\n",
        "\n",
        "rag = grounding.GoogleSearchRetrieval()\n",
        "tool = Tool.from_google_search_retrieval(rag)\n",
        "\n",
        "model = GenerativeModel(\n",
        "    MODEL_NAME,\n",
        "    tools=[tool],\n",
        "    generation_config=GenerationConfig(\n",
        "        temperature=0.0\n",
        "    )\n",
        ")"
      ],
      "metadata": {
        "id": "cb1u6HsudgO6",
        "executionInfo": {
          "status": "ok",
          "timestamp": 1737003454810,
          "user_tz": -540,
          "elapsed": 2,
          "user": {
            "displayName": "",
            "userId": ""
          }
        }
      },
      "id": "cb1u6HsudgO6",
      "execution_count": 8,
      "outputs": []
    },
    {
      "cell_type": "code",
      "source": [
        "prompt = \"오늘 달러 환률은 얼마야?\"\n",
        "response = model.generate_content(prompt)\n",
        "print(response.text)"
      ],
      "metadata": {
        "colab": {
          "base_uri": "https://localhost:8080/"
        },
        "id": "8qfMubkUeLGq",
        "executionInfo": {
          "status": "ok",
          "timestamp": 1737003527366,
          "user_tz": -540,
          "elapsed": 1212,
          "user": {
            "displayName": "",
            "userId": ""
          }
        },
        "outputId": "207c3904-d95f-439a-8f48-f860a5eb692f"
      },
      "id": "8qfMubkUeLGq",
      "execution_count": 10,
      "outputs": [
        {
          "output_type": "stream",
          "name": "stdout",
          "text": [
            "오늘 (2025년 1월 16일) 미국 달러 환율은 1,469.00원 입니다. \n",
            "\n"
          ]
        }
      ]
    },
    {
      "cell_type": "code",
      "source": [],
      "metadata": {
        "id": "tTtclsciemCp"
      },
      "id": "tTtclsciemCp",
      "execution_count": null,
      "outputs": []
    }
  ],
  "metadata": {
    "kernelspec": {
      "display_name": "Python 3",
      "language": "python",
      "name": "python3"
    },
    "language_info": {
      "codemirror_mode": {
        "name": "ipython",
        "version": 3
      },
      "file_extension": ".py",
      "mimetype": "text/x-python",
      "name": "python",
      "nbconvert_exporter": "python",
      "pygments_lexer": "ipython3",
      "version": "3.10.10"
    },
    "colab": {
      "provenance": [],
      "name": "younki.cho (Jan 16, 2025, 1:47:30 PM)"
    }
  },
  "nbformat": 4,
  "nbformat_minor": 5
}