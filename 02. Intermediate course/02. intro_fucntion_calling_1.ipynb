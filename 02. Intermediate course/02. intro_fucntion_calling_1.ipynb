{
  "cells": [
    {
      "cell_type": "markdown",
      "source": [
        "# 1. 시나리오 이해"
      ],
      "metadata": {
        "id": "Jsf-G5IBLeW8"
      },
      "id": "Jsf-G5IBLeW8"
    },
    {
      "cell_type": "markdown",
      "source": [
        "![image.png](data:image/png;base64,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)"
      ],
      "metadata": {
        "id": "qoJhbH2ELi2T"
      },
      "id": "qoJhbH2ELi2T"
    },
    {
      "cell_type": "markdown",
      "source": [
        "# 2. 환경설정"
      ],
      "metadata": {
        "id": "XXVPDG9r_aW5"
      },
      "id": "XXVPDG9r_aW5"
    },
    {
      "cell_type": "code",
      "id": "3qG1tEakCBq7CjnuEckfsW8P",
      "metadata": {
        "tags": [],
        "id": "3qG1tEakCBq7CjnuEckfsW8P",
        "colab": {
          "base_uri": "https://localhost:8080/",
          "height": 942
        },
        "collapsed": true,
        "executionInfo": {
          "status": "ok",
          "timestamp": 1735799839578,
          "user_tz": -540,
          "elapsed": 22735,
          "user": {
            "displayName": "",
            "userId": ""
          }
        },
        "outputId": "5798abf2-5400-4c02-81ac-0d5685bef969"
      },
      "source": [
        "!pip install --upgrade google-cloud-aiplatform"
      ],
      "execution_count": null,
      "outputs": [
        {
          "output_type": "stream",
          "name": "stdout",
          "text": [
            "Requirement already satisfied: google-cloud-aiplatform in /usr/local/lib/python3.10/dist-packages (1.73.0)\n",
            "Collecting google-cloud-aiplatform\n",
            "  Downloading google_cloud_aiplatform-1.75.0-py2.py3-none-any.whl.metadata (31 kB)\n",
            "Requirement already satisfied: google-api-core!=2.0.*,!=2.1.*,!=2.2.*,!=2.3.*,!=2.4.*,!=2.5.*,!=2.6.*,!=2.7.*,<3.0.0dev,>=1.34.1 in /usr/local/lib/python3.10/dist-packages (from google-api-core[grpc]!=2.0.*,!=2.1.*,!=2.2.*,!=2.3.*,!=2.4.*,!=2.5.*,!=2.6.*,!=2.7.*,<3.0.0dev,>=1.34.1->google-cloud-aiplatform) (2.19.2)\n",
            "Requirement already satisfied: google-auth<3.0.0dev,>=2.14.1 in /usr/local/lib/python3.10/dist-packages (from google-cloud-aiplatform) (2.27.0)\n",
            "Requirement already satisfied: proto-plus<2.0.0dev,>=1.22.3 in /usr/local/lib/python3.10/dist-packages (from google-cloud-aiplatform) (1.25.0)\n",
            "Requirement already satisfied: protobuf!=4.21.0,!=4.21.1,!=4.21.2,!=4.21.3,!=4.21.4,!=4.21.5,<6.0.0dev,>=3.20.2 in /usr/local/lib/python3.10/dist-packages (from google-cloud-aiplatform) (4.25.5)\n",
            "Requirement already satisfied: packaging>=14.3 in /usr/local/lib/python3.10/dist-packages (from google-cloud-aiplatform) (24.2)\n",
            "Requirement already satisfied: google-cloud-storage<3.0.0dev,>=1.32.0 in /usr/local/lib/python3.10/dist-packages (from google-cloud-aiplatform) (2.8.0)\n",
            "Requirement already satisfied: google-cloud-bigquery!=3.20.0,<4.0.0dev,>=1.15.0 in /usr/local/lib/python3.10/dist-packages (from google-cloud-aiplatform) (3.25.0)\n",
            "Requirement already satisfied: google-cloud-resource-manager<3.0.0dev,>=1.3.3 in /usr/local/lib/python3.10/dist-packages (from google-cloud-aiplatform) (1.13.1)\n",
            "Requirement already satisfied: shapely<3.0.0dev in /usr/local/lib/python3.10/dist-packages (from google-cloud-aiplatform) (2.0.6)\n",
            "Requirement already satisfied: pydantic<3 in /usr/local/lib/python3.10/dist-packages (from google-cloud-aiplatform) (2.10.3)\n",
            "Requirement already satisfied: docstring-parser<1 in /usr/local/lib/python3.10/dist-packages (from google-cloud-aiplatform) (0.16)\n",
            "Requirement already satisfied: googleapis-common-protos<2.0.dev0,>=1.56.2 in /usr/local/lib/python3.10/dist-packages (from google-api-core!=2.0.*,!=2.1.*,!=2.2.*,!=2.3.*,!=2.4.*,!=2.5.*,!=2.6.*,!=2.7.*,<3.0.0dev,>=1.34.1->google-api-core[grpc]!=2.0.*,!=2.1.*,!=2.2.*,!=2.3.*,!=2.4.*,!=2.5.*,!=2.6.*,!=2.7.*,<3.0.0dev,>=1.34.1->google-cloud-aiplatform) (1.66.0)\n",
            "Requirement already satisfied: requests<3.0.0.dev0,>=2.18.0 in /usr/local/lib/python3.10/dist-packages (from google-api-core!=2.0.*,!=2.1.*,!=2.2.*,!=2.3.*,!=2.4.*,!=2.5.*,!=2.6.*,!=2.7.*,<3.0.0dev,>=1.34.1->google-api-core[grpc]!=2.0.*,!=2.1.*,!=2.2.*,!=2.3.*,!=2.4.*,!=2.5.*,!=2.6.*,!=2.7.*,<3.0.0dev,>=1.34.1->google-cloud-aiplatform) (2.32.3)\n",
            "Requirement already satisfied: grpcio<2.0dev,>=1.33.2 in /usr/local/lib/python3.10/dist-packages (from google-api-core[grpc]!=2.0.*,!=2.1.*,!=2.2.*,!=2.3.*,!=2.4.*,!=2.5.*,!=2.6.*,!=2.7.*,<3.0.0dev,>=1.34.1->google-cloud-aiplatform) (1.68.1)\n",
            "Requirement already satisfied: grpcio-status<2.0.dev0,>=1.33.2 in /usr/local/lib/python3.10/dist-packages (from google-api-core[grpc]!=2.0.*,!=2.1.*,!=2.2.*,!=2.3.*,!=2.4.*,!=2.5.*,!=2.6.*,!=2.7.*,<3.0.0dev,>=1.34.1->google-cloud-aiplatform) (1.62.3)\n",
            "Requirement already satisfied: cachetools<6.0,>=2.0.0 in /usr/local/lib/python3.10/dist-packages (from google-auth<3.0.0dev,>=2.14.1->google-cloud-aiplatform) (5.5.0)\n",
            "Requirement already satisfied: pyasn1-modules>=0.2.1 in /usr/local/lib/python3.10/dist-packages (from google-auth<3.0.0dev,>=2.14.1->google-cloud-aiplatform) (0.4.1)\n",
            "Requirement already satisfied: rsa<5,>=3.1.4 in /usr/local/lib/python3.10/dist-packages (from google-auth<3.0.0dev,>=2.14.1->google-cloud-aiplatform) (4.9)\n",
            "Requirement already satisfied: google-cloud-core<3.0.0dev,>=1.6.0 in /usr/local/lib/python3.10/dist-packages (from google-cloud-bigquery!=3.20.0,<4.0.0dev,>=1.15.0->google-cloud-aiplatform) (2.4.1)\n",
            "Requirement already satisfied: google-resumable-media<3.0dev,>=0.6.0 in /usr/local/lib/python3.10/dist-packages (from google-cloud-bigquery!=3.20.0,<4.0.0dev,>=1.15.0->google-cloud-aiplatform) (2.7.2)\n",
            "Requirement already satisfied: python-dateutil<3.0dev,>=2.7.2 in /usr/local/lib/python3.10/dist-packages (from google-cloud-bigquery!=3.20.0,<4.0.0dev,>=1.15.0->google-cloud-aiplatform) (2.8.2)\n",
            "Requirement already satisfied: grpc-google-iam-v1<1.0.0dev,>=0.12.4 in /usr/local/lib/python3.10/dist-packages (from google-cloud-resource-manager<3.0.0dev,>=1.3.3->google-cloud-aiplatform) (0.13.1)\n",
            "Requirement already satisfied: annotated-types>=0.6.0 in /usr/local/lib/python3.10/dist-packages (from pydantic<3->google-cloud-aiplatform) (0.7.0)\n",
            "Requirement already satisfied: pydantic-core==2.27.1 in /usr/local/lib/python3.10/dist-packages (from pydantic<3->google-cloud-aiplatform) (2.27.1)\n",
            "Requirement already satisfied: typing-extensions>=4.12.2 in /usr/local/lib/python3.10/dist-packages (from pydantic<3->google-cloud-aiplatform) (4.12.2)\n",
            "Requirement already satisfied: numpy<3,>=1.14 in /usr/local/lib/python3.10/dist-packages (from shapely<3.0.0dev->google-cloud-aiplatform) (1.26.4)\n",
            "Requirement already satisfied: google-crc32c<2.0dev,>=1.0 in /usr/local/lib/python3.10/dist-packages (from google-resumable-media<3.0dev,>=0.6.0->google-cloud-bigquery!=3.20.0,<4.0.0dev,>=1.15.0->google-cloud-aiplatform) (1.6.0)\n",
            "Requirement already satisfied: pyasn1<0.7.0,>=0.4.6 in /usr/local/lib/python3.10/dist-packages (from pyasn1-modules>=0.2.1->google-auth<3.0.0dev,>=2.14.1->google-cloud-aiplatform) (0.6.1)\n",
            "Requirement already satisfied: six>=1.5 in /usr/local/lib/python3.10/dist-packages (from python-dateutil<3.0dev,>=2.7.2->google-cloud-bigquery!=3.20.0,<4.0.0dev,>=1.15.0->google-cloud-aiplatform) (1.17.0)\n",
            "Requirement already satisfied: charset-normalizer<4,>=2 in /usr/local/lib/python3.10/dist-packages (from requests<3.0.0.dev0,>=2.18.0->google-api-core!=2.0.*,!=2.1.*,!=2.2.*,!=2.3.*,!=2.4.*,!=2.5.*,!=2.6.*,!=2.7.*,<3.0.0dev,>=1.34.1->google-api-core[grpc]!=2.0.*,!=2.1.*,!=2.2.*,!=2.3.*,!=2.4.*,!=2.5.*,!=2.6.*,!=2.7.*,<3.0.0dev,>=1.34.1->google-cloud-aiplatform) (3.4.0)\n",
            "Requirement already satisfied: idna<4,>=2.5 in /usr/local/lib/python3.10/dist-packages (from requests<3.0.0.dev0,>=2.18.0->google-api-core!=2.0.*,!=2.1.*,!=2.2.*,!=2.3.*,!=2.4.*,!=2.5.*,!=2.6.*,!=2.7.*,<3.0.0dev,>=1.34.1->google-api-core[grpc]!=2.0.*,!=2.1.*,!=2.2.*,!=2.3.*,!=2.4.*,!=2.5.*,!=2.6.*,!=2.7.*,<3.0.0dev,>=1.34.1->google-cloud-aiplatform) (3.10)\n",
            "Requirement already satisfied: urllib3<3,>=1.21.1 in /usr/local/lib/python3.10/dist-packages (from requests<3.0.0.dev0,>=2.18.0->google-api-core!=2.0.*,!=2.1.*,!=2.2.*,!=2.3.*,!=2.4.*,!=2.5.*,!=2.6.*,!=2.7.*,<3.0.0dev,>=1.34.1->google-api-core[grpc]!=2.0.*,!=2.1.*,!=2.2.*,!=2.3.*,!=2.4.*,!=2.5.*,!=2.6.*,!=2.7.*,<3.0.0dev,>=1.34.1->google-cloud-aiplatform) (2.2.3)\n",
            "Requirement already satisfied: certifi>=2017.4.17 in /usr/local/lib/python3.10/dist-packages (from requests<3.0.0.dev0,>=2.18.0->google-api-core!=2.0.*,!=2.1.*,!=2.2.*,!=2.3.*,!=2.4.*,!=2.5.*,!=2.6.*,!=2.7.*,<3.0.0dev,>=1.34.1->google-api-core[grpc]!=2.0.*,!=2.1.*,!=2.2.*,!=2.3.*,!=2.4.*,!=2.5.*,!=2.6.*,!=2.7.*,<3.0.0dev,>=1.34.1->google-cloud-aiplatform) (2024.8.30)\n",
            "Downloading google_cloud_aiplatform-1.75.0-py2.py3-none-any.whl (6.9 MB)\n",
            "\u001b[2K   \u001b[90m━━━━━━━━━━━━━━━━━━━━━━━━━━━━━━━━━━━━━━━━\u001b[0m \u001b[32m6.9/6.9 MB\u001b[0m \u001b[31m58.4 MB/s\u001b[0m eta \u001b[36m0:00:00\u001b[0m\n",
            "\u001b[?25hInstalling collected packages: google-cloud-aiplatform\n",
            "  Attempting uninstall: google-cloud-aiplatform\n",
            "    Found existing installation: google-cloud-aiplatform 1.73.0\n",
            "    Uninstalling google-cloud-aiplatform-1.73.0:\n",
            "      Successfully uninstalled google-cloud-aiplatform-1.73.0\n",
            "Successfully installed google-cloud-aiplatform-1.75.0\n"
          ]
        },
        {
          "output_type": "display_data",
          "data": {
            "application/vnd.colab-display-data+json": {
              "pip_warning": {
                "packages": [
                  "google"
                ]
              },
              "id": "7a6504ec7ec7423f86319063bd6753e0"
            }
          },
          "metadata": {}
        }
      ]
    },
    {
      "cell_type": "code",
      "source": [
        "import IPython\n",
        "\n",
        "app = IPython.Application.instance()\n",
        "app.kernel.do_shutdown(True)"
      ],
      "metadata": {
        "colab": {
          "base_uri": "https://localhost:8080/"
        },
        "id": "3yio8oTGumVU",
        "executionInfo": {
          "status": "ok",
          "timestamp": 1735799839578,
          "user_tz": -540,
          "elapsed": 6,
          "user": {
            "displayName": "",
            "userId": ""
          }
        },
        "outputId": "eb2a9b01-2de6-4ccd-f50a-0f84ff814b70"
      },
      "id": "3yio8oTGumVU",
      "execution_count": null,
      "outputs": [
        {
          "output_type": "execute_result",
          "data": {
            "text/plain": [
              "{'status': 'ok', 'restart': True}"
            ]
          },
          "metadata": {},
          "execution_count": 2
        }
      ]
    },
    {
      "cell_type": "markdown",
      "source": [
        "# 3. 초기화"
      ],
      "metadata": {
        "id": "7sShkqTG_eUg"
      },
      "id": "7sShkqTG_eUg"
    },
    {
      "cell_type": "code",
      "source": [
        "import vertexai\n",
        "\n",
        "PROJECT_ID=!gcloud config get-value project\n",
        "PROJECT_ID=PROJECT_ID[0]\n",
        "LOCATION = \"us-east1\"\n",
        "\n",
        "vertexai.init(project=PROJECT_ID, location=LOCATION)"
      ],
      "metadata": {
        "id": "9o4mFAedutK7",
        "executionInfo": {
          "status": "ok",
          "timestamp": 1735870662293,
          "user_tz": -540,
          "elapsed": 4199,
          "user": {
            "displayName": "",
            "userId": ""
          }
        }
      },
      "id": "9o4mFAedutK7",
      "execution_count": 1,
      "outputs": []
    },
    {
      "cell_type": "code",
      "source": [
        "from vertexai.generative_models import (\n",
        "    GenerativeModel,\n",
        "    FunctionDeclaration,\n",
        "    Tool,\n",
        "    GenerationConfig,\n",
        ")"
      ],
      "metadata": {
        "id": "EF_QSLkEu8q8",
        "executionInfo": {
          "status": "ok",
          "timestamp": 1735870665107,
          "user_tz": -540,
          "elapsed": 2,
          "user": {
            "displayName": "",
            "userId": ""
          }
        }
      },
      "id": "EF_QSLkEu8q8",
      "execution_count": 2,
      "outputs": []
    },
    {
      "cell_type": "markdown",
      "source": [
        "# 4. 함수 생성 및 모델 연결"
      ],
      "metadata": {
        "id": "ARdtdxoU_g3Z"
      },
      "id": "ARdtdxoU_g3Z"
    },
    {
      "cell_type": "code",
      "source": [
        "get_product_info = FunctionDeclaration(\n",
        "    name=\"get_product_info\",\n",
        "    description=\"제품의 이름을 얻을 수 있다.\",\n",
        "    parameters={\n",
        "        \"type\": \"object\",\n",
        "        \"properties\":{\n",
        "            \"product_name\": {\"type\": \"string\", \"description\": \"제품 이름\"}\n",
        "        },\n",
        "    },\n",
        ")"
      ],
      "metadata": {
        "id": "8DVCN4GRwg7U",
        "executionInfo": {
          "status": "ok",
          "timestamp": 1735870668455,
          "user_tz": -540,
          "elapsed": 2,
          "user": {
            "displayName": "",
            "userId": ""
          }
        }
      },
      "id": "8DVCN4GRwg7U",
      "execution_count": 3,
      "outputs": []
    },
    {
      "cell_type": "code",
      "source": [
        "single_tool=Tool(\n",
        "    function_declarations=[get_product_info]\n",
        ")"
      ],
      "metadata": {
        "id": "dwpBKSWUxV8M",
        "executionInfo": {
          "status": "ok",
          "timestamp": 1735870669891,
          "user_tz": -540,
          "elapsed": 2,
          "user": {
            "displayName": "",
            "userId": ""
          }
        }
      },
      "id": "dwpBKSWUxV8M",
      "execution_count": 4,
      "outputs": []
    },
    {
      "cell_type": "code",
      "source": [
        "model = GenerativeModel(\n",
        "    \"gemini-1.5-pro\",\n",
        "    # generation_config=GenerationConfig(temperature=0),\n",
        "    tools=[single_tool],\n",
        ")\n",
        "chat = model.start_chat()"
      ],
      "metadata": {
        "id": "DxYYRLjKxnbz",
        "executionInfo": {
          "status": "ok",
          "timestamp": 1735870864009,
          "user_tz": -540,
          "elapsed": 2,
          "user": {
            "displayName": "",
            "userId": ""
          }
        }
      },
      "id": "DxYYRLjKxnbz",
      "execution_count": 9,
      "outputs": []
    },
    {
      "cell_type": "markdown",
      "source": [
        "# 5. 결과 확인"
      ],
      "metadata": {
        "id": "zqPBFYij_pa7"
      },
      "id": "zqPBFYij_pa7"
    },
    {
      "cell_type": "code",
      "source": [
        "prompt=\"\"\"\n",
        "이 가게에 Pixel 8 pro 있나요?\n",
        "\"\"\"\n",
        "\n",
        "response = chat.send_message(prompt)\n",
        "print(response)"
      ],
      "metadata": {
        "colab": {
          "base_uri": "https://localhost:8080/"
        },
        "collapsed": true,
        "id": "oiwMVtdHyBQD",
        "executionInfo": {
          "status": "ok",
          "timestamp": 1735870678007,
          "user_tz": -540,
          "elapsed": 1253,
          "user": {
            "displayName": "",
            "userId": ""
          }
        },
        "outputId": "2a86e2b9-9548-48f5-c034-3b572dcf8537"
      },
      "id": "oiwMVtdHyBQD",
      "execution_count": 7,
      "outputs": [
        {
          "output_type": "stream",
          "name": "stdout",
          "text": [
            "candidates {\n",
            "  content {\n",
            "    role: \"model\"\n",
            "    parts {\n",
            "      function_call {\n",
            "        name: \"get_product_info\"\n",
            "        args {\n",
            "          fields {\n",
            "            key: \"product_name\"\n",
            "            value {\n",
            "              string_value: \"Pixel 8 pro\"\n",
            "            }\n",
            "          }\n",
            "        }\n",
            "      }\n",
            "    }\n",
            "  }\n",
            "  avg_logprobs: -3.25856478108714e-05\n",
            "  finish_reason: STOP\n",
            "  safety_ratings {\n",
            "    category: HARM_CATEGORY_HATE_SPEECH\n",
            "    probability: NEGLIGIBLE\n",
            "    probability_score: 0.168945312\n",
            "    severity: HARM_SEVERITY_NEGLIGIBLE\n",
            "    severity_score: 0.111328125\n",
            "  }\n",
            "  safety_ratings {\n",
            "    category: HARM_CATEGORY_DANGEROUS_CONTENT\n",
            "    probability: NEGLIGIBLE\n",
            "    probability_score: 0.251953125\n",
            "    severity: HARM_SEVERITY_LOW\n",
            "    severity_score: 0.255859375\n",
            "  }\n",
            "  safety_ratings {\n",
            "    category: HARM_CATEGORY_HARASSMENT\n",
            "    probability: NEGLIGIBLE\n",
            "    probability_score: 0.106933594\n",
            "    severity: HARM_SEVERITY_NEGLIGIBLE\n",
            "    severity_score: 0.0517578125\n",
            "  }\n",
            "  safety_ratings {\n",
            "    category: HARM_CATEGORY_SEXUALLY_EXPLICIT\n",
            "    probability: NEGLIGIBLE\n",
            "    probability_score: 0.0629882812\n",
            "    severity: HARM_SEVERITY_NEGLIGIBLE\n",
            "    severity_score: 0.0395507812\n",
            "  }\n",
            "}\n",
            "model_version: \"gemini-1.5-pro-001\"\n",
            "usage_metadata {\n",
            "  prompt_token_count: 73\n",
            "  candidates_token_count: 12\n",
            "  total_token_count: 85\n",
            "}\n",
            "\n"
          ]
        }
      ]
    },
    {
      "cell_type": "code",
      "source": [
        "prompt=\"\"\"\n",
        "겔럭시 24s 나 아이폰 16 있나요?\n",
        "\"\"\"\n",
        "\n",
        "response = chat.send_message(prompt)\n",
        "response.candidates[0].content.parts"
      ],
      "metadata": {
        "colab": {
          "base_uri": "https://localhost:8080/"
        },
        "id": "E_BfXb6eyOZE",
        "executionInfo": {
          "status": "ok",
          "timestamp": 1735801466884,
          "user_tz": -540,
          "elapsed": 1108,
          "user": {
            "displayName": "",
            "userId": ""
          }
        },
        "outputId": "7b13a327-d0b8-4591-9ba7-f8a52766e65d"
      },
      "id": "E_BfXb6eyOZE",
      "execution_count": null,
      "outputs": [
        {
          "output_type": "execute_result",
          "data": {
            "text/plain": [
              "[function_call {\n",
              "   name: \"get_product_info\"\n",
              "   args {\n",
              "     fields {\n",
              "       key: \"product_name\"\n",
              "       value {\n",
              "         string_value: \"겔럭시 24s\"\n",
              "       }\n",
              "     }\n",
              "   }\n",
              " }]"
            ]
          },
          "metadata": {},
          "execution_count": 42
        }
      ]
    },
    {
      "cell_type": "markdown",
      "source": [
        "# 6. array를 적용한 다중 결과 확인"
      ],
      "metadata": {
        "id": "eq5CY3H2_zG7"
      },
      "id": "eq5CY3H2_zG7"
    },
    {
      "cell_type": "code",
      "source": [
        "get_product_info = FunctionDeclaration(\n",
        "    name=\"get_product_info\",\n",
        "    description=\"제품의 이름을 얻을 수 있다.\",\n",
        "    parameters={\n",
        "        \"type\": \"object\",\n",
        "        \"properties\":{\n",
        "            \"product_name\": {\"type\": \"array\", \"description\": \"제품 이름\"}\n",
        "        },\n",
        "    },\n",
        ")"
      ],
      "metadata": {
        "id": "swadxctpzf6b"
      },
      "id": "swadxctpzf6b",
      "execution_count": null,
      "outputs": []
    },
    {
      "cell_type": "code",
      "source": [
        "array_tool=Tool(\n",
        "    function_declarations=[get_product_info]\n",
        ")\n",
        "\n",
        "model = GenerativeModel(\n",
        "    \"gemini-1.5-pro\",\n",
        "    tools=[array_tool]\n",
        ")\n",
        "\n",
        "chat = model.start_chat()"
      ],
      "metadata": {
        "id": "LNjZLiX11NSJ"
      },
      "id": "LNjZLiX11NSJ",
      "execution_count": null,
      "outputs": []
    },
    {
      "cell_type": "code",
      "source": [
        "prompt=\"\"\"\n",
        "겔럭시 24s 나 아이폰 16 있나요?\n",
        "\"\"\"\n",
        "\n",
        "response = chat.send_message(prompt)\n",
        "response.candidates[0].content.parts"
      ],
      "metadata": {
        "colab": {
          "base_uri": "https://localhost:8080/"
        },
        "id": "gG8NAbmU11CV",
        "executionInfo": {
          "status": "ok",
          "timestamp": 1735801674442,
          "user_tz": -540,
          "elapsed": 1497,
          "user": {
            "displayName": "",
            "userId": ""
          }
        },
        "outputId": "f885a845-b59d-4cbf-89c3-38722f00a419"
      },
      "id": "gG8NAbmU11CV",
      "execution_count": null,
      "outputs": [
        {
          "output_type": "execute_result",
          "data": {
            "text/plain": [
              "[function_call {\n",
              "   name: \"get_product_info\"\n",
              "   args {\n",
              "     fields {\n",
              "       key: \"product_name\"\n",
              "       value {\n",
              "         list_value {\n",
              "           values {\n",
              "             string_value: \"겔럭시 24s\"\n",
              "           }\n",
              "           values {\n",
              "             string_value: \"아이폰 16\"\n",
              "           }\n",
              "         }\n",
              "       }\n",
              "     }\n",
              "   }\n",
              " }]"
            ]
          },
          "metadata": {},
          "execution_count": 46
        }
      ]
    }
  ],
  "metadata": {
    "kernelspec": {
      "display_name": "Python 3",
      "language": "python",
      "name": "python3"
    },
    "language_info": {
      "codemirror_mode": {
        "name": "ipython",
        "version": 3
      },
      "file_extension": ".py",
      "mimetype": "text/x-python",
      "name": "python",
      "nbconvert_exporter": "python",
      "pygments_lexer": "ipython3",
      "version": "3.10.10"
    },
    "colab": {
      "provenance": [],
      "name": "5. intro_fucntion_calling_1.ipynb"
    }
  },
  "nbformat": 4,
  "nbformat_minor": 5
}