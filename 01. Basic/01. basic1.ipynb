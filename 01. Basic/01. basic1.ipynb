{
 "cells": [
  {
   "cell_type": "markdown",
   "id": "50066391",
   "metadata": {},
   "source": [
    "1. 라이브러리 설치"
   ]
  },
  {
   "cell_type": "code",
   "execution_count": null,
   "id": "7ce4b630-3304-4464-be28-0384a4f347bd",
   "metadata": {
    "collapsed": true,
    "jupyter": {
     "outputs_hidden": true
    },
    "tags": []
   },
   "outputs": [],
   "source": [
    "!pip install --upgrade --user google-cloud-aiplatform"
   ]
  },
  {
   "cell_type": "code",
   "execution_count": 2,
   "id": "6d851a91-a1db-4c76-97e5-a95c67eb0816",
   "metadata": {
    "tags": []
   },
   "outputs": [
    {
     "data": {
      "text/plain": [
       "{'status': 'ok', 'restart': True}"
      ]
     },
     "execution_count": 2,
     "metadata": {},
     "output_type": "execute_result"
    }
   ],
   "source": [
    "import IPython\n",
    "\n",
    "app = IPython.Application.instance()\n",
    "app.kernel.do_shutdown(True)"
   ]
  },
  {
   "cell_type": "markdown",
   "id": "c13503e3",
   "metadata": {},
   "source": [
    "2. 환경 변수 설정"
   ]
  },
  {
   "cell_type": "markdown",
   "id": "4a4afb86",
   "metadata": {},
   "source": [
    "2.1 Project id 얻어오기"
   ]
  },
  {
   "cell_type": "code",
   "execution_count": null,
   "id": "2fe8a78d",
   "metadata": {},
   "outputs": [],
   "source": []
  },
  {
   "cell_type": "code",
   "execution_count": null,
   "id": "95ea4d03",
   "metadata": {},
   "outputs": [],
   "source": [
    "proj = !gcloud config get-value project\n",
    "\n",
    "print(f\"project name : {proj}\")\n",
    "print(f\"project name : {type(proj)}\")\n",
    "print(f\"project name : {type(proj[0])}\")\n",
    "print(f\"project name : {proj[0]}\")"
   ]
  },
  {
   "cell_type": "code",
   "execution_count": 1,
   "id": "b8ec06e6-6e65-4a8d-bd8a-e2725de7b977",
   "metadata": {
    "tags": []
   },
   "outputs": [],
   "source": [
    "import vertexai\n",
    "\n",
    "PROJECT_ID=!gcloud config get-value project\n",
    "PROJECT_ID=PROJECT_ID[0]\n",
    "LOCATION=\"us-central1\"\n",
    "\n",
    "vertexai.init(project=PROJECT_ID, location=LOCATION)"
   ]
  },
  {
   "cell_type": "markdown",
   "id": "09d96b97",
   "metadata": {},
   "source": [
    "3. 모델 생성 및 실행"
   ]
  },
  {
   "cell_type": "markdown",
   "id": "28bc00fd",
   "metadata": {},
   "source": [
    "3.1 모델 생성"
   ]
  },
  {
   "cell_type": "code",
   "execution_count": 4,
   "id": "05cd29a3-4a85-409d-b753-a289240b9d9a",
   "metadata": {
    "tags": []
   },
   "outputs": [],
   "source": [
    "from vertexai.generative_models import GenerativeModel\n",
    "\n",
    "model = GenerativeModel(\"gemini-1.5-pro-001\")"
   ]
  },
  {
   "cell_type": "markdown",
   "id": "c795c937",
   "metadata": {},
   "source": [
    "3.2 결과 확인"
   ]
  },
  {
   "cell_type": "code",
   "execution_count": null,
   "id": "d0b82d35-5953-4232-bc05-51422ba1abf5",
   "metadata": {
    "tags": []
   },
   "outputs": [],
   "source": [
    "response = model.generate_content(\"천고마비에 대해 설명해줘?\")\n",
    "print(response.text)"
   ]
  },
  {
   "cell_type": "code",
   "execution_count": null,
   "id": "ae83132f-870c-4c06-bd3c-05566f4cf633",
   "metadata": {},
   "outputs": [],
   "source": []
  }
 ],
 "metadata": {
  "environment": {
   "kernel": "conda-base-py",
   "name": "workbench-notebooks.m126",
   "type": "gcloud",
   "uri": "us-docker.pkg.dev/deeplearning-platform-release/gcr.io/workbench-notebooks:m126"
  },
  "kernelspec": {
   "display_name": "Python 3 (ipykernel) (Local)",
   "language": "python",
   "name": "conda-base-py"
  },
  "language_info": {
   "codemirror_mode": {
    "name": "ipython",
    "version": 3
   },
   "file_extension": ".py",
   "mimetype": "text/x-python",
   "name": "python",
   "nbconvert_exporter": "python",
   "pygments_lexer": "ipython3",
   "version": "3.10.15"
  }
 },
 "nbformat": 4,
 "nbformat_minor": 5
}
