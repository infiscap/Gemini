{
  "cells": [
    {
      "cell_type": "markdown",
      "id": "ed3c679e",
      "metadata": {},
      "source": [
        "1. 라이브러리 설치"
      ]
    },
    {
      "cell_type": "code",
      "execution_count": null,
      "id": "38c6b644-8e21-4b02-b3e2-2f6870457a71",
      "metadata": {
        "collapsed": true,
        "id": "38c6b644-8e21-4b02-b3e2-2f6870457a71",
        "outputId": "5513c264-e128-4fc4-ac9b-7891af9711e0",
        "tags": []
      },
      "outputs": [],
      "source": [
        "!pip install --upgrade --user google-cloud-aiplatform"
      ]
    },
    {
      "cell_type": "code",
      "execution_count": null,
      "id": "ffde3318-a14d-4c23-847f-777e42635e18",
      "metadata": {
        "id": "ffde3318-a14d-4c23-847f-777e42635e18",
        "outputId": "b4daa97e-a695-4c1c-f612-12467c17a85d",
        "tags": []
      },
      "outputs": [
        {
          "data": {
            "text/plain": [
              "{'status': 'ok', 'restart': True}"
            ]
          },
          "execution_count": 2,
          "metadata": {},
          "output_type": "execute_result"
        }
      ],
      "source": [
        "import IPython\n",
        "\n",
        "app = IPython.Application.instance()\n",
        "app.kernel.do_shutdown(True)"
      ]
    },
    {
      "cell_type": "markdown",
      "id": "60854d91",
      "metadata": {},
      "source": [
        "2. 환경 변수 설정"
      ]
    },
    {
      "cell_type": "code",
      "execution_count": 2,
      "id": "74ff721c-9f7b-4fa7-945b-52cc073a1267",
      "metadata": {
        "executionInfo": {
          "elapsed": 6975,
          "status": "ok",
          "timestamp": 1734677962159,
          "user": {
            "displayName": "",
            "userId": ""
          },
          "user_tz": -540
        },
        "id": "74ff721c-9f7b-4fa7-945b-52cc073a1267",
        "tags": []
      },
      "outputs": [],
      "source": [
        "import vertexai\n",
        "\n",
        "PROJECT_ID=!gcloud config get-value project\n",
        "PROJECT_ID=PROJECT_ID[0]\n",
        "LOCATION=\"us-central1\"\n",
        "\n",
        "vertexai.init(project=PROJECT_ID, location=LOCATION)"
      ]
    },
    {
      "cell_type": "markdown",
      "id": "9fda9b8c",
      "metadata": {},
      "source": [
        "3. 모델 활용"
      ]
    },
    {
      "cell_type": "markdown",
      "id": "c91fd34e",
      "metadata": {},
      "source": [
        "3.1 모델 생성"
      ]
    },
    {
      "cell_type": "code",
      "execution_count": 3,
      "id": "8a643bde-981d-41a5-93a1-273db4a1acb5",
      "metadata": {
        "executionInfo": {
          "elapsed": 409,
          "status": "ok",
          "timestamp": 1734677964167,
          "user": {
            "displayName": "",
            "userId": ""
          },
          "user_tz": -540
        },
        "id": "8a643bde-981d-41a5-93a1-273db4a1acb5",
        "tags": []
      },
      "outputs": [],
      "source": [
        "from vertexai.generative_models import GenerativeModel\n",
        "\n",
        "model = GenerativeModel(\"gemini-1.5-pro-001\")"
      ]
    },
    {
      "cell_type": "markdown",
      "id": "c14d73e4",
      "metadata": {},
      "source": [
        "3.2 chat 실행"
      ]
    },
    {
      "cell_type": "code",
      "execution_count": 5,
      "id": "c7c0b680-7ba4-43a4-bd19-c8df2b2dad17",
      "metadata": {
        "executionInfo": {
          "elapsed": 418,
          "status": "ok",
          "timestamp": 1734678002442,
          "user": {
            "displayName": "",
            "userId": ""
          },
          "user_tz": -540
        },
        "id": "c7c0b680-7ba4-43a4-bd19-c8df2b2dad17"
      },
      "outputs": [],
      "source": [
        "chat = model.start_chat()"
      ]
    },
    {
      "cell_type": "code",
      "execution_count": 6,
      "id": "906ocpVj2tZA",
      "metadata": {
        "colab": {
          "base_uri": "https://localhost:8080/"
        },
        "executionInfo": {
          "elapsed": 8680,
          "status": "ok",
          "timestamp": 1734678171981,
          "user": {
            "displayName": "",
            "userId": ""
          },
          "user_tz": -540
        },
        "id": "906ocpVj2tZA",
        "outputId": "3cb4fc1e-efdc-407a-e273-d0c5b57a45dc"
      },
      "outputs": [
        {
          "name": "stdout",
          "output_type": "stream",
          "text": [
            "윤기야, 안녕! 영화광이라고 불러줘서 고마워. 😎 \"해바라기\" 정말 좋은 영화지!  🌻 특히 어떤 점이 가장 좋았는지 알려주면 더 딱 맞는 영화를 추천해 줄 수 있을 것 같아. 🥰\n",
            "\n",
            "예를 들어, \n",
            "\n",
            "* **\"해바라기\"의 애절한 로맨스가 좋았다면:**\n",
            "    * **\"라라랜드\"**:  꿈과 사랑을 향한 여정을 그린 아름다운 영상미의 영화야.\n",
            "    * **\"이터널 선샤인\"**:  기억을 지워도 다시 사랑에 빠지는 연인들의 이야기로, 독특한 스토리텔링이 매력적이지. \n",
            "* **\"해바라기\"의 아름다운 영상미가 좋았다면:**\n",
            "    * **\"콜 미 바이 유어 네임\"**: 이탈리아의 아름다운 풍경을 배경으로 첫사랑의 설렘을 그린 영화야. \n",
            "    * **\"그랜드 부다페스트 호텔\"**:  독특한 색감과 미장센이 돋보이는 영화로, 보는 재미가 쏠쏠할 거야. \n",
            "* **\"해바라기\"의 전쟁과 평화에 대한 메시지가 좋았다면:**\n",
            "    * **\"쉰들러 리스트\"**:  홀로코스트 생존자들을 구출한 오스카 쉰들러의 실화를 바탕으로 한 감동적인 영화야. \n",
            "    * **\"라이언 일병 구하기\"**:  제2차 세계대전을 배경으로 한 전쟁의 참혹함과 그 안에서 피어나는 인간애를 그린 영화야. \n",
            "\n",
            "어떤 영화가 가장 끌리니? 😊  네 취향에 대해 조금 더 알려주면 더 좋은 영화 친구가 되어줄게! 😉 \n",
            "\n"
          ]
        }
      ],
      "source": [
        "prompt=\"\"\"\n",
        "내 이름은 윤기야\n",
        "넌 영화광이라며\n",
        "난 해바라기라는 영화를 좋아해\n",
        "다른 추천해줄 만한 영화가 있을까??\n",
        "\"\"\"\n",
        "\n",
        "response = chat.send_message(prompt)\n",
        "print(response.text)"
      ]
    },
    {
      "cell_type": "code",
      "execution_count": 7,
      "id": "ebuTgLc24CqH",
      "metadata": {
        "colab": {
          "base_uri": "https://localhost:8080/"
        },
        "executionInfo": {
          "elapsed": 8420,
          "status": "ok",
          "timestamp": 1734678272712,
          "user": {
            "displayName": "",
            "userId": ""
          },
          "user_tz": -540
        },
        "id": "ebuTgLc24CqH",
        "outputId": "474917d7-8b5e-42fb-b2ce-0d12142c1c9c"
      },
      "outputs": [
        {
          "name": "stdout",
          "output_type": "stream",
          "text": [
            "앗! 😮 윤기야, 내가 큰 실수를 했네! 😅  \"해바라기\"하면 당연히 김래원 배우님 주연의 그 영화지! 💪  내가 잠시 다른 해바라기를 생각하고 있었나 봐.  🌻 \n",
            "\n",
            "\"해바라기\" 정말 명작이지! 특히 김래원 배우님의 연기는 정말 잊을 수가 없어.  😭  혹시 어떤 장면이 가장 기억에 남아? 윤기가 어떤 영화를 좋아하는지 더 자세히 알려주면,  내가 \"해바라기\" 만큼이나 멋진 영화들을 추천해 줄게! 😊 \n",
            "\n",
            "예를 들어, \n",
            "\n",
            "* **\"해바라기\"의 액션씬이 좋았다면:** \n",
            "    * **\"범죄도시\" 시리즈**:  화끈한 액션과 통쾌한 스토리, 그리고 마동석 배우님 특유의 매력까지 놓칠 수 없지!\n",
            "    * **\"아저씨\"**:  원빈 배우님의 멋진 액션 연기와 가슴 아픈 스토리가 인상적인 영화야. \n",
            "* **\"해바라기\"의 드라마적인 요소와 배우들의 감정 연기가 좋았다면:**\n",
            "    * **\"말죽거리 잔혹사\"**:  한국 느와르 영화의 대표작으로 꼽히는 작품으로, 배우들의 연기가 일품이야. \n",
            "    * **\"신세계\"**:  한국형 갱스터 영화의 새로운 지평을 연 영화로, 긴장감 넘치는 스토리와 배우들의 열연이 돋보여. \n",
            "\n",
            "어떤 영화가 가장 보고 싶어졌어? 🤔  네 생각이 궁금해! 😊 \n",
            "\n"
          ]
        }
      ],
      "source": [
        "prompt=\"\"\"\n",
        "너 김래원 나온 해라라기 영화 모르지\n",
        "\"\"\"\n",
        "\n",
        "response = chat.send_message(prompt)\n",
        "print(response.text)"
      ]
    },
    {
      "cell_type": "markdown",
      "id": "442dac7c",
      "metadata": {},
      "source": [
        "3.3 히스토리 확인"
      ]
    },
    {
      "cell_type": "code",
      "execution_count": 8,
      "id": "vzOlAzcC4ban",
      "metadata": {
        "colab": {
          "base_uri": "https://localhost:8080/"
        },
        "executionInfo": {
          "elapsed": 8,
          "status": "ok",
          "timestamp": 1734678329369,
          "user": {
            "displayName": "",
            "userId": ""
          },
          "user_tz": -540
        },
        "id": "vzOlAzcC4ban",
        "outputId": "33879e5b-45ac-45f7-c318-94919a1144ba"
      },
      "outputs": [
        {
          "name": "stdout",
          "output_type": "stream",
          "text": [
            "[role: \"user\"\n",
            "parts {\n",
            "  text: \"\\n내 이름은 윤기야\\n넌 영화광이라며\\n난 해바라기라는 영화를 좋아해\\n다른 추천해줄 만한 영화가 있을까??\\n\"\n",
            "}\n",
            ", role: \"model\"\n",
            "parts {\n",
            "  text: \"윤기야, 안녕! 영화광이라고 불러줘서 고마워. 😎 \\\"해바라기\\\" 정말 좋은 영화지!  🌻 특히 어떤 점이 가장 좋았는지 알려주면 더 딱 맞는 영화를 추천해 줄 수 있을 것 같아. 🥰\\n\\n예를 들어, \\n\\n* **\\\"해바라기\\\"의 애절한 로맨스가 좋았다면:**\\n    * **\\\"라라랜드\\\"**:  꿈과 사랑을 향한 여정을 그린 아름다운 영상미의 영화야.\\n    * **\\\"이터널 선샤인\\\"**:  기억을 지워도 다시 사랑에 빠지는 연인들의 이야기로, 독특한 스토리텔링이 매력적이지. \\n* **\\\"해바라기\\\"의 아름다운 영상미가 좋았다면:**\\n    * **\\\"콜 미 바이 유어 네임\\\"**: 이탈리아의 아름다운 풍경을 배경으로 첫사랑의 설렘을 그린 영화야. \\n    * **\\\"그랜드 부다페스트 호텔\\\"**:  독특한 색감과 미장센이 돋보이는 영화로, 보는 재미가 쏠쏠할 거야. \\n* **\\\"해바라기\\\"의 전쟁과 평화에 대한 메시지가 좋았다면:**\\n    * **\\\"쉰들러 리스트\\\"**:  홀로코스트 생존자들을 구출한 오스카 쉰들러의 실화를 바탕으로 한 감동적인 영화야. \\n    * **\\\"라이언 일병 구하기\\\"**:  제2차 세계대전을 배경으로 한 전쟁의 참혹함과 그 안에서 피어나는 인간애를 그린 영화야. \\n\\n어떤 영화가 가장 끌리니? 😊  네 취향에 대해 조금 더 알려주면 더 좋은 영화 친구가 되어줄게! 😉 \\n\"\n",
            "}\n",
            ", role: \"user\"\n",
            "parts {\n",
            "  text: \"\\n너 김래원 나온 해라라기 영화 모르지\\n\"\n",
            "}\n",
            ", role: \"model\"\n",
            "parts {\n",
            "  text: \"앗! 😮 윤기야, 내가 큰 실수를 했네! 😅  \\\"해바라기\\\"하면 당연히 김래원 배우님 주연의 그 영화지! 💪  내가 잠시 다른 해바라기를 생각하고 있었나 봐.  🌻 \\n\\n\\\"해바라기\\\" 정말 명작이지! 특히 김래원 배우님의 연기는 정말 잊을 수가 없어.  😭  혹시 어떤 장면이 가장 기억에 남아? 윤기가 어떤 영화를 좋아하는지 더 자세히 알려주면,  내가 \\\"해바라기\\\" 만큼이나 멋진 영화들을 추천해 줄게! 😊 \\n\\n예를 들어, \\n\\n* **\\\"해바라기\\\"의 액션씬이 좋았다면:** \\n    * **\\\"범죄도시\\\" 시리즈**:  화끈한 액션과 통쾌한 스토리, 그리고 마동석 배우님 특유의 매력까지 놓칠 수 없지!\\n    * **\\\"아저씨\\\"**:  원빈 배우님의 멋진 액션 연기와 가슴 아픈 스토리가 인상적인 영화야. \\n* **\\\"해바라기\\\"의 드라마적인 요소와 배우들의 감정 연기가 좋았다면:**\\n    * **\\\"말죽거리 잔혹사\\\"**:  한국 느와르 영화의 대표작으로 꼽히는 작품으로, 배우들의 연기가 일품이야. \\n    * **\\\"신세계\\\"**:  한국형 갱스터 영화의 새로운 지평을 연 영화로, 긴장감 넘치는 스토리와 배우들의 열연이 돋보여. \\n\\n어떤 영화가 가장 보고 싶어졌어? 🤔  네 생각이 궁금해! 😊 \\n\"\n",
            "}\n",
            "]\n"
          ]
        }
      ],
      "source": [
        "print(chat.history)"
      ]
    },
    {
      "cell_type": "code",
      "execution_count": null,
      "id": "OuV3Iyio4rPb",
      "metadata": {
        "id": "OuV3Iyio4rPb"
      },
      "outputs": [],
      "source": []
    }
  ],
  "metadata": {
    "colab": {
      "provenance": []
    },
    "environment": {
      "kernel": "conda-base-py",
      "name": "workbench-notebooks.m126",
      "type": "gcloud",
      "uri": "us-docker.pkg.dev/deeplearning-platform-release/gcr.io/workbench-notebooks:m126"
    },
    "kernelspec": {
      "display_name": "Python 3 (ipykernel) (Local)",
      "language": "python",
      "name": "conda-base-py"
    },
    "language_info": {
      "codemirror_mode": {
        "name": "ipython",
        "version": 3
      },
      "file_extension": ".py",
      "mimetype": "text/x-python",
      "name": "python",
      "nbconvert_exporter": "python",
      "pygments_lexer": "ipython3",
      "version": "3.10.15"
    }
  },
  "nbformat": 4,
  "nbformat_minor": 5
}
