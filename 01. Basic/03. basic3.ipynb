{
 "cells": [
  {
   "cell_type": "markdown",
   "id": "6f74af1f",
   "metadata": {},
   "source": [
    "1. 라이브러리 설치"
   ]
  },
  {
   "cell_type": "code",
   "execution_count": null,
   "id": "38c6b644-8e21-4b02-b3e2-2f6870457a71",
   "metadata": {
    "tags": []
   },
   "outputs": [],
   "source": [
    "!pip install --upgrade --user google-cloud-aiplatform"
   ]
  },
  {
   "cell_type": "code",
   "execution_count": 2,
   "id": "ffde3318-a14d-4c23-847f-777e42635e18",
   "metadata": {
    "tags": []
   },
   "outputs": [
    {
     "data": {
      "text/plain": [
       "{'status': 'ok', 'restart': True}"
      ]
     },
     "execution_count": 2,
     "metadata": {},
     "output_type": "execute_result"
    }
   ],
   "source": [
    "import IPython\n",
    "\n",
    "app = IPython.Application.instance()\n",
    "app.kernel.do_shutdown(True)"
   ]
  },
  {
   "cell_type": "markdown",
   "id": "4aafba3f",
   "metadata": {},
   "source": [
    "2. 환경변수 설정"
   ]
  },
  {
   "cell_type": "code",
   "execution_count": 1,
   "id": "74ff721c-9f7b-4fa7-945b-52cc073a1267",
   "metadata": {
    "tags": []
   },
   "outputs": [],
   "source": [
    "import vertexai\n",
    "\n",
    "PROJECT_ID=!gcloud config get-value project\n",
    "PROJECT_ID=PROJECT_ID[0]\n",
    "LOCATION=\"us-central1\"\n",
    "\n",
    "vertexai.init(project=PROJECT_ID, location=LOCATION)"
   ]
  },
  {
   "cell_type": "markdown",
   "id": "79d14d7e",
   "metadata": {},
   "source": [
    "3. 모델 활용"
   ]
  },
  {
   "cell_type": "markdown",
   "id": "9a7fd695",
   "metadata": {},
   "source": [
    "3.1 모델 생성"
   ]
  },
  {
   "cell_type": "code",
   "execution_count": 2,
   "id": "8a643bde-981d-41a5-93a1-273db4a1acb5",
   "metadata": {
    "tags": []
   },
   "outputs": [],
   "source": [
    "from vertexai.generative_models import GenerativeModel\n",
    "\n",
    "model = GenerativeModel(\"gemini-1.5-pro-001\")"
   ]
  },
  {
   "cell_type": "markdown",
   "id": "611517c8",
   "metadata": {},
   "source": [
    "3.2 결과 확인"
   ]
  },
  {
   "cell_type": "code",
   "execution_count": 3,
   "id": "292cf6e8-9499-4074-886c-7a406666959e",
   "metadata": {
    "tags": []
   },
   "outputs": [],
   "source": [
    "content=\"\"\"\n",
    "기술 산업의 트랜드를 목록화해주세요\n",
    "\"\"\""
   ]
  },
  {
   "cell_type": "code",
   "execution_count": 4,
   "id": "c4242c87-9d67-4fec-a1fa-c21760761678",
   "metadata": {
    "tags": []
   },
   "outputs": [
    {
     "name": "stdout",
     "output_type": "stream",
     "text": [
      "## 기술 산업 트렌드 목록\n",
      "\n",
      "다음은 기술 산업의 주요 트렌드 목록입니다:\n",
      "\n",
      "**핵심 트렌드:**\n",
      "\n",
      "* **인공지능 (AI) 및 머신러닝 (ML):**  다양한 산업에서 자동화, 예측 분석, 맞춤형 경험을 주도합니다.\n",
      "* **클라우드 컴퓨팅:**  클라우드 기반 서비스(IaaS, PaaS, SaaS)의 지속적인 성장과 서버리스 컴퓨팅, 엣지 컴퓨팅과 같은 새로운 트렌드가 나타납니다.\n",
      "* **빅데이터 및 분석:** 방대한 데이터 세트를 분석하여 인식을 얻고, 의사 결정을 개선하고, 새로운 제품과 서비스를 창출합니다.\n",
      "* **사물 인터넷 (IoT):** 상호 연결된 장치의 확산으로 데이터 수집 및 분석이 증가하고 스마트 홈 및 도시가 구현됩니다.\n",
      "* **확장현실 (XR) - VR/AR/MR:** 몰입형 경험, 게임, 엔터테인먼트, 교육 및 직업 훈련을 위한 새로운 가능성을 창출합니다.\n",
      "* **블록체인 및 암호화폐:** 탈중앙화된 보안 거래, 공급망 관리 및 디지털 신원 확인을 위한 새로운 기회를 제공합니다.\n",
      "* **5G 및 고급 무선 기술:** 더 빠른 속도, 더 낮은 지연 시간, 더 큰 용량을 제공하여 IoT, AI 및 XR과 같은 다른 기술을 지원합니다.\n",
      "* **사이버 보안:** 데이터 침해 및 사이버 공격이 증가함에 따라 더욱 중요해지고 있으며, AI 및 ML과 같은 고급 기술을 사용하여 위협을 예방하고 완화합니다.\n",
      "* **로봇 공정 자동화 (RPA):** 반복적인 작업을 자동화하여 효율성, 생산성 및 비용 절감을 개선합니다.\n",
      "* **지속 가능한 기술:** 환경 지속 가능성에 대한 관심 증가로 재생 에너지, 에너지 효율, 지속 가능한 재료 및 순환 경제와 같은 기술이 발전하고 있습니다.\n",
      "\n",
      "**떠오르는 트렌드:**\n",
      "\n",
      "* **양자 컴퓨팅:** 기존 컴퓨터보다 훨씬 빠른 속도로 특정 유형의 문제를 해결할 수 있는 잠재력이 있는 새로운 유형의 컴퓨팅입니다.\n",
      "* **나노 기술:** 의료, 제조 및 에너지와 같은 다양한 분야에서 새로운 응용 분야가 있는 재료 및 장치를 분자 수준에서 조작합니다.\n",
      "* **바이오 기술:** 의료, 농업 및 환경과 같은 분야에서 새로운 솔루션을 개발하기 위해 생물학적 시스템과 살아있는 유기체를 활용합니다.\n",
      "* **3D 프린팅:** 신속한 프로토타입 제작, 맞춤형 제조 및 주문형 생산을 가능하게 하여 제조 공정을 혁신합니다.\n",
      "* **드론 및 무인 항공기(UAV):** 배송, 감시, 검사 및 농업과 같은 다양한 산업에서 응용 프로그램을 찾아 운영을 변화시킵니다.\n",
      "* **저궤도 위성 (LEO):** 전 세계, 특히 외딴 지역에 광대역 인터넷 액세스를 제공하여 연결성을 혁신할 수 있는 잠재력이 있습니다.\n",
      "* **엣지 컴퓨팅:** 데이터가 생성되는 지점 가까이에서 컴퓨팅 성능을 제공하여 지연 시간을 줄이고 실시간 의사 결정을 가능하게 합니다.\n",
      "* **디지털 트윈:** 실제 자산 또는 프로세스의 가상 표현을 생성하여 분석, 시뮬레이션 및 최적화를 가능하게 합니다.\n",
      "\n",
      "\n",
      "**산업별 트렌드:**\n",
      "\n",
      "* **의료:** 원격 의료, 웨어러블 기술, AI 기반 진단, 맞춤형 의료, 예측 분석.\n",
      "* **금융:** 핀테크, 모바일 결제, 블록체인, AI 기반 금융 자문, regtech.\n",
      "* **교육:** 온라인 학습 플랫폼, 개인 맞춤형 학습, 가상 현실 및 증강 현실, AI 기반 교육 도구.\n",
      "* **제조:** 산업 자동화, 산업용 사물 인터넷(IIoT), 로봇 공학, 3D 프린팅, 예측 유지 관리.\n",
      "* **소매:** 전자 상거래, 모바일 결제, 증강 현실 쇼핑, 개인 맞춤형 마케팅, 무인 상점.\n",
      "* **운송 및 물류:** 자율 주행 자동차, 스마트 교통 시스템, 드론 배송, 공급망 가시성.\n",
      "\n",
      "이는 기술 산업에서 발생하는 수많은 트렌드 중 일부에 불과합니다. 이러한 트렌드는 지속적으로 진화하고 있으며 앞으로 몇 년 동안 우리 삶, 비즈니스 운영 방식, 세상과 상호 작용하는 방식에 중대한 영향을 미칠 것입니다."
     ]
    }
   ],
   "source": [
    "responses= model.generate_content(content, stream=True)\n",
    "\n",
    "for res in responses:\n",
    "    print(res.text, end=\"\")"
   ]
  },
  {
   "cell_type": "code",
   "execution_count": 5,
   "id": "e653499c-cabf-41a1-9e06-62648b513170",
   "metadata": {},
   "outputs": [],
   "source": [
    "content=content+\"중요한 10가지 산업만 출력하시오\""
   ]
  },
  {
   "cell_type": "code",
   "execution_count": 6,
   "id": "46c3d190-3480-47f1-bbb2-a5514b76f66c",
   "metadata": {
    "tags": []
   },
   "outputs": [
    {
     "name": "stdout",
     "output_type": "stream",
     "text": [
      "다음은 기술 산업의 상위 10가지 트렌드입니다.\n",
      "\n",
      "1. **인공 지능(AI) 및 머신 러닝(ML)**: AI와 ML은 자동화, 데이터 분석, 의사 결정을 포함한 다양한 산업에서 계속해서 사용되고 있습니다.\n",
      "\n",
      "2. **클라우드 컴퓨팅**: 클라우드 컴퓨팅은 기업과 개인 모두에게 점점 더 인기를 끌고 있으며, 이제는 기업에 필수가 되었습니다.\n",
      "\n",
      "3. **엣지 컴퓨팅**: 엣지 컴퓨팅은 클라우드 컴퓨팅을 보완하는 것으로, 데이터 소스에 더 가까운 곳에서 처리 기능을 제공하여 지연 시간을 줄이고 대역폭 사용량을 최적화합니다.\n",
      "\n",
      "4. **사물 인터넷(IoT)**: IoT는 기기가 데이터를 연결하고 교환할 수 있도록 하여 효율성, 자동화, 새로운 기회를 가능하게 합니다.\n",
      "\n",
      "5. **확장 현실(XR)**: XR은 가상 현실(VR), 증강 현실(AR), 혼합 현실(MR)을 포괄하여 몰입형 경험과 몰입형 환경을 만듭니다.\n",
      "\n",
      "6. **5G 및 고급 무선 기술**: 5G 네트워크는 더 빠른 속도, 더 낮은 지연 시간, 더 큰 용량을 제공하여 연결된 장치 및 애플리케이션의 새로운 가능성을 열어줍니다.\n",
      "\n",
      "7. **사이버 보안**: 데이터 위반 및 사이버 위협이 증가함에 따라 사이버 보안은 기업과 개인 모두에게 가장 중요한 문제가 되고 있습니다.\n",
      "\n",
      "8. **블록체인**: 블록체인은 암호화폐의 기반이 되는 분산형 원장 기술이며, 안전하고 투명하며 변조 방지 트랜잭션을 가능하게 합니다.\n",
      "\n",
      "9. **로봇 공정 자동화(RPA)**: RPA는 인간의 개입 없이 반복적인 작업을 자동화하여 기업이 효율성과 정확성을 향상할 수 있도록 합니다.\n",
      "\n",
      "10. **양자 컴퓨팅**: 양자 컴퓨팅은 아직 초기 단계에 있지만 의학, 재료 과학, 인공 지능과 같은 분야를 혁신할 잠재력이 있습니다.\n",
      "\n",
      "이러한 트렌드는 기술 산업을 빠르게 변화시키고 있으며 우리 삶에 큰 영향을 미치고 있습니다."
     ]
    }
   ],
   "source": [
    "responses = model.generate_content(content, stream=True)\n",
    "\n",
    "for res in responses:\n",
    "    print(res.text, end=\"\")"
   ]
  },
  {
   "cell_type": "code",
   "execution_count": 9,
   "id": "a3670d39-73e4-4d01-a3e0-30a19c845801",
   "metadata": {
    "tags": []
   },
   "outputs": [],
   "source": [
    "content=content+\"각 산업별 설명을 5단어로 요약해서 출력해 주세요\""
   ]
  },
  {
   "cell_type": "code",
   "execution_count": null,
   "id": "7e8b933f-2a4c-42db-ba22-374517b1799e",
   "metadata": {
    "tags": []
   },
   "outputs": [
    {
     "name": "stdout",
     "output_type": "stream",
     "text": [
      "## 기술 산업 트렌드 Top 10 (5단어 요약)\n",
      "\n",
      "**전체 요약: 💡 연결, 자동화, 데이터"
     ]
    }
   ],
   "source": [
    "responses = model.generate_content(content, stream=True)\n",
    "\n",
    "for res in responses:\n",
    "    print(res.text, end=\"\")"
   ]
  },
  {
   "cell_type": "code",
   "execution_count": null,
   "id": "c7c0b680-7ba4-43a4-bd19-c8df2b2dad17",
   "metadata": {},
   "outputs": [],
   "source": []
  }
 ],
 "metadata": {
  "environment": {
   "kernel": "conda-base-py",
   "name": "workbench-notebooks.m126",
   "type": "gcloud",
   "uri": "us-docker.pkg.dev/deeplearning-platform-release/gcr.io/workbench-notebooks:m126"
  },
  "kernelspec": {
   "display_name": "Python 3 (ipykernel) (Local)",
   "language": "python",
   "name": "conda-base-py"
  },
  "language_info": {
   "codemirror_mode": {
    "name": "ipython",
    "version": 3
   },
   "file_extension": ".py",
   "mimetype": "text/x-python",
   "name": "python",
   "nbconvert_exporter": "python",
   "pygments_lexer": "ipython3",
   "version": "3.10.15"
  }
 },
 "nbformat": 4,
 "nbformat_minor": 5
}
