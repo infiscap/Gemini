{
  "cells": [
    {
      "cell_type": "markdown",
      "id": "f0c86be3",
      "metadata": {},
      "source": [
        "1. 라이브러리 설치"
      ]
    },
    {
      "cell_type": "code",
      "execution_count": null,
      "id": "tdwYntHEjp4NvXhG29l94Md0",
      "metadata": {
        "colab": {
          "base_uri": "https://localhost:8080/"
        },
        "executionInfo": {
          "elapsed": 8,
          "status": "ok",
          "timestamp": 1735190222153,
          "user": {
            "displayName": "",
            "userId": ""
          },
          "user_tz": -540
        },
        "id": "tdwYntHEjp4NvXhG29l94Md0",
        "outputId": "7f7ab4d4-ecfc-40db-afb5-ab927129f240",
        "tags": []
      },
      "outputs": [],
      "source": [
        "!pip install --upgrade google.cloud.aiplaform"
      ]
    },
    {
      "cell_type": "code",
      "execution_count": null,
      "id": "1a9zewx6ZUhw",
      "metadata": {
        "colab": {
          "base_uri": "https://localhost:8080/"
        },
        "executionInfo": {
          "elapsed": 4,
          "status": "ok",
          "timestamp": 1735190222153,
          "user": {
            "displayName": "",
            "userId": ""
          },
          "user_tz": -540
        },
        "id": "1a9zewx6ZUhw",
        "outputId": "6ce3aaf8-96a0-488b-c968-952a476f88cb"
      },
      "outputs": [
        {
          "data": {
            "text/plain": [
              "{'status': 'ok', 'restart': True}"
            ]
          },
          "execution_count": 2,
          "metadata": {},
          "output_type": "execute_result"
        }
      ],
      "source": [
        "import IPython\n",
        "\n",
        "app = IPython.Application.instance()\n",
        "app.kernel.do_shutdown(True)"
      ]
    },
    {
      "cell_type": "markdown",
      "id": "dcuipt5qoNPn",
      "metadata": {
        "id": "dcuipt5qoNPn"
      },
      "source": [
        "2. 환경변수 설정"
      ]
    },
    {
      "cell_type": "code",
      "execution_count": null,
      "id": "4uiCTHh2ZYjF",
      "metadata": {
        "id": "4uiCTHh2ZYjF"
      },
      "outputs": [],
      "source": [
        "import vertexai\n",
        "\n",
        "PROJECT_ID=!gcloud config get-value project\n",
        "PROJECT_ID=PROJECT_ID[0]\n",
        "LOCATION=\"us-east1\"\n",
        "vertexai.init(project=PROJECT_ID, location=LOCATION)"
      ]
    },
    {
      "cell_type": "markdown",
      "id": "26ded3a5",
      "metadata": {},
      "source": [
        "3. 모델 활용"
      ]
    },
    {
      "cell_type": "markdown",
      "id": "4225b283",
      "metadata": {},
      "source": [
        "3.1 모델 생성"
      ]
    },
    {
      "cell_type": "code",
      "execution_count": null,
      "id": "8BSYbdGyZjHG",
      "metadata": {
        "id": "8BSYbdGyZjHG"
      },
      "outputs": [],
      "source": [
        "from vertexai.generative_models import (\n",
        "    GenerativeModel,\n",
        "    Part,\n",
        ")\n",
        "\n",
        "model = GenerativeModel(\"gemini-1.5-flash\")"
      ]
    },
    {
      "cell_type": "markdown",
      "id": "ZYeiAXi6oTuG",
      "metadata": {
        "id": "ZYeiAXi6oTuG"
      },
      "source": [
        "3.2 video 분석"
      ]
    },
    {
      "cell_type": "code",
      "execution_count": null,
      "id": "cgT91GXVZw_l",
      "metadata": {
        "colab": {
          "base_uri": "https://localhost:8080/",
          "height": 273
        },
        "executionInfo": {
          "elapsed": 4,
          "status": "ok",
          "timestamp": 1735190677583,
          "user": {
            "displayName": "",
            "userId": ""
          },
          "user_tz": -540
        },
        "id": "cgT91GXVZw_l",
        "outputId": "50468543-0956-4608-b263-5d2faffe6c54"
      },
      "outputs": [
        {
          "data": {
            "text/html": [
              "<video src=\"https://storage.googleapis.com/github-repo/img/gemini/multimodality_usecases_overview/pixel8.mp4\" controls  width=\"450\" >\n",
              "      Your browser does not support the <code>video</code> element.\n",
              "    </video>"
            ],
            "text/plain": [
              "<IPython.core.display.Video object>"
            ]
          },
          "execution_count": 9,
          "metadata": {},
          "output_type": "execute_result"
        }
      ],
      "source": [
        "from IPython.display import Video\n",
        "\n",
        "file_path=\"github-repo/img/gemini/multimodality_usecases_overview/pixel8.mp4\"\n",
        "video_uri = f\"gs://{file_path}\"\n",
        "video_url=f\"https://storage.googleapis.com/{file_path}\"\n",
        "\n",
        "Video(video_url, width=450)"
      ]
    },
    {
      "cell_type": "code",
      "execution_count": null,
      "id": "OsUW-KiKaacW",
      "metadata": {
        "id": "OsUW-KiKaacW"
      },
      "outputs": [],
      "source": [
        "prompt=\"\"\"\n",
        "영상을 보고 다음 질문에 답하시오.\n",
        "1. 주인공의 직업은 무엇인가?\n",
        "2. 핸드폰의 주 기능은 무엇인가?\n",
        "3. 촬영한 도시는 어디인가?\n",
        "\n",
        "답변은 JSON으로 표현하시오.\n",
        "\"\"\"\n",
        "\n",
        "video=Part.from_uri(video_uri, mime_type=\"video/mp4\")"
      ]
    },
    {
      "cell_type": "code",
      "execution_count": null,
      "id": "WQlzAMW2asxO",
      "metadata": {
        "colab": {
          "base_uri": "https://localhost:8080/"
        },
        "executionInfo": {
          "elapsed": 3444,
          "status": "ok",
          "timestamp": 1735190883281,
          "user": {
            "displayName": "",
            "userId": ""
          },
          "user_tz": -540
        },
        "id": "WQlzAMW2asxO",
        "outputId": "4bcc0fd7-b0a3-422b-a898-dfa611bcece7"
      },
      "outputs": [
        {
          "name": "stdout",
          "output_type": "stream",
          "text": [
            "```json\n",
            "{\n",
            " \"주인공의 직업\": \"사진작가\",\n",
            " \"핸드폰의 주 기능\": \"야경 모드\",\n",
            " \"촬영한 도시\": \"도쿄\"\n",
            "}\n",
            "```\n"
          ]
        }
      ],
      "source": [
        "contents=[prompt, video]\n",
        "\n",
        "response = model.generate_content(contents)\n",
        "\n",
        "print(response.text)"
      ]
    },
    {
      "cell_type": "code",
      "execution_count": null,
      "id": "GLYdY9Hvbsed",
      "metadata": {
        "colab": {
          "base_uri": "https://localhost:8080/"
        },
        "executionInfo": {
          "elapsed": 2695,
          "status": "ok",
          "timestamp": 1735190891600,
          "user": {
            "displayName": "",
            "userId": ""
          },
          "user_tz": -540
        },
        "id": "GLYdY9Hvbsed",
        "outputId": "51d94537-c763-4c42-b0a2-8cc5633f9706"
      },
      "outputs": [
        {
          "name": "stdout",
          "output_type": "stream",
          "text": [
            "```json\n",
            "{\n",
            " \"1\": \"사진 작가\",\n",
            " \"2\": \"야간 모드\",\n",
            " \"3\": \"도쿄\"\n",
            "}\n",
            "```\n"
          ]
        }
      ],
      "source": [
        "contents=[video, prompt]\n",
        "\n",
        "response = model.generate_content(contents)\n",
        "\n",
        "print(response.text)"
      ]
    },
    {
      "cell_type": "markdown",
      "id": "mklwSI9kog7r",
      "metadata": {
        "id": "mklwSI9kog7r"
      },
      "source": [
        "3.3 schema 적용"
      ]
    },
    {
      "cell_type": "code",
      "execution_count": null,
      "id": "F5NXRBXPdzD4",
      "metadata": {
        "id": "F5NXRBXPdzD4"
      },
      "outputs": [],
      "source": [
        "response_schema={\n",
        "    \"type\": \"ARRAY\",\n",
        "    \"items\":{\n",
        "        \"type\": \"OBJECT\",\n",
        "        \"properties\":{\n",
        "            \"question\": {\"type\": \"STRING\", \"description\": \"Summary in noun form\"},\n",
        "            \"answer\": {\"type\": \"STRING\", \"description\": \"Summary in noun form\"}\n",
        "        },\n",
        "        \"required\": [\"question\", \"answer\"]\n",
        "    }\n",
        "}"
      ]
    },
    {
      "cell_type": "code",
      "execution_count": null,
      "id": "fVrxzMvGehTl",
      "metadata": {
        "colab": {
          "base_uri": "https://localhost:8080/"
        },
        "executionInfo": {
          "elapsed": 3323,
          "status": "ok",
          "timestamp": 1735191755883,
          "user": {
            "displayName": "",
            "userId": ""
          },
          "user_tz": -540
        },
        "id": "fVrxzMvGehTl",
        "outputId": "67d0b262-6036-40f0-d37b-53d590914798"
      },
      "outputs": [
        {
          "name": "stdout",
          "output_type": "stream",
          "text": [
            "1. 주인공은 사진 작가입니다.\n",
            "2. 핸드폰의 주 기능은 야경 모드입니다.\n",
            "3. 촬영한 도시는 도쿄입니다.\n"
          ]
        }
      ],
      "source": [
        "prompt=\"\"\"\n",
        "영상을 보고 다음 질문에 답하시오.\n",
        "1. 주인공의 직업은 무엇인가?\n",
        "2. 핸드폰의 주 기능은 무엇인가?\n",
        "3. 촬영한 도시는 어디인가?\n",
        "\"\"\"\n",
        "content=[video, prompt]\n",
        "\n",
        "response = model.generate_content(content)\n",
        "print(response.text)"
      ]
    },
    {
      "cell_type": "code",
      "execution_count": null,
      "id": "oLsW-pD1ezV0",
      "metadata": {
        "colab": {
          "base_uri": "https://localhost:8080/"
        },
        "executionInfo": {
          "elapsed": 3345,
          "status": "ok",
          "timestamp": 1735191919635,
          "user": {
            "displayName": "",
            "userId": ""
          },
          "user_tz": -540
        },
        "id": "oLsW-pD1ezV0",
        "outputId": "cb98ac6b-de61-48b2-d85a-268b42f09012"
      },
      "outputs": [
        {
          "name": "stdout",
          "output_type": "stream",
          "text": [
            "[{\"question\": \"주인공의 직업\", \"answer\": \"사진작가\"}, {\"question\": \"핸드폰의 주 기능\", \"answer\": \"야경모드\"}, {\"question\": \"촬영한 도시\", \"answer\": \"도쿄\"}]\n"
          ]
        }
      ],
      "source": [
        "from vertexai.generative_models import GenerationConfig\n",
        "\n",
        "content=[video, prompt]\n",
        "\n",
        "response = model.generate_content(\n",
        "    content,\n",
        "    generation_config=GenerationConfig(\n",
        "        response_mime_type=\"application/json\",\n",
        "        response_schema=response_schema\n",
        "    )\n",
        ")\n",
        "print(response.text)"
      ]
    },
    {
      "cell_type": "code",
      "execution_count": null,
      "id": "oneRTH5lfI8c",
      "metadata": {
        "colab": {
          "base_uri": "https://localhost:8080/"
        },
        "executionInfo": {
          "elapsed": 2879,
          "status": "ok",
          "timestamp": 1735191940502,
          "user": {
            "displayName": "",
            "userId": ""
          },
          "user_tz": -540
        },
        "id": "oneRTH5lfI8c",
        "outputId": "cdc6ce5a-b904-4afd-de27-8a3302ba4b5d"
      },
      "outputs": [
        {
          "name": "stdout",
          "output_type": "stream",
          "text": [
            "[{\"question\": \"주인공의 직업\", \"answer\": \"사진작가\"}, {\"question\": \"핸드폰의 주 기능\", \"answer\": \"야경 모드\"}, {\"question\": \"촬영한 도시\", \"answer\": \"도쿄\"}]\n"
          ]
        }
      ],
      "source": [
        "from vertexai.generative_models import GenerationConfig\n",
        "\n",
        "content=[prompt, video]\n",
        "\n",
        "response = model.generate_content(\n",
        "    content,\n",
        "    generation_config=GenerationConfig(\n",
        "        response_mime_type=\"application/json\",\n",
        "        response_schema=response_schema\n",
        "    )\n",
        ")\n",
        "print(response.text)"
      ]
    },
    {
      "cell_type": "code",
      "execution_count": null,
      "id": "a-k5ogLif70c",
      "metadata": {
        "id": "a-k5ogLif70c"
      },
      "outputs": [],
      "source": []
    }
  ],
  "metadata": {
    "colab": {
      "name": "3. analyze from a video file",
      "provenance": []
    },
    "kernelspec": {
      "display_name": "Python 3",
      "language": "python",
      "name": "python3"
    },
    "language_info": {
      "codemirror_mode": {
        "name": "ipython",
        "version": 3
      },
      "file_extension": ".py",
      "mimetype": "text/x-python",
      "name": "python",
      "nbconvert_exporter": "python",
      "pygments_lexer": "ipython3",
      "version": "3.10.10"
    }
  },
  "nbformat": 4,
  "nbformat_minor": 5
}
