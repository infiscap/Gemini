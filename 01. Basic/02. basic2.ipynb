{
 "cells": [
  {
   "cell_type": "markdown",
   "id": "cb5c056e",
   "metadata": {},
   "source": [
    "1. 라이브러리 설치"
   ]
  },
  {
   "cell_type": "code",
   "execution_count": null,
   "id": "38c6b644-8e21-4b02-b3e2-2f6870457a71",
   "metadata": {
    "collapsed": true,
    "jupyter": {
     "outputs_hidden": true
    },
    "tags": []
   },
   "outputs": [],
   "source": [
    "!pip install --upgrade --user google-cloud-aiplatform"
   ]
  },
  {
   "cell_type": "code",
   "execution_count": 6,
   "id": "ffde3318-a14d-4c23-847f-777e42635e18",
   "metadata": {
    "tags": []
   },
   "outputs": [
    {
     "data": {
      "text/plain": [
       "{'status': 'ok', 'restart': True}"
      ]
     },
     "execution_count": 6,
     "metadata": {},
     "output_type": "execute_result"
    }
   ],
   "source": [
    "import IPython\n",
    "\n",
    "app = IPython.Application.instance()\n",
    "app.kernel.do_shutdown(True)"
   ]
  },
  {
   "cell_type": "markdown",
   "id": "c10db283",
   "metadata": {},
   "source": [
    "2. 환경변수 설정"
   ]
  },
  {
   "cell_type": "code",
   "execution_count": 2,
   "id": "74ff721c-9f7b-4fa7-945b-52cc073a1267",
   "metadata": {
    "tags": []
   },
   "outputs": [],
   "source": [
    "import vertexai\n",
    "\n",
    "PROJECT_ID=!gcloud config get-value project\n",
    "PROJECT_ID=PROJECT_ID[0]\n",
    "LOCATION=\"us-central1\"\n",
    "\n",
    "vertexai.init(project=PROJECT_ID, location=LOCATION)"
   ]
  },
  {
   "cell_type": "markdown",
   "id": "3ad01aef",
   "metadata": {},
   "source": [
    "3. 모델 활용"
   ]
  },
  {
   "cell_type": "markdown",
   "id": "506fb6a8",
   "metadata": {},
   "source": [
    "3.1 모델 생성"
   ]
  },
  {
   "cell_type": "code",
   "execution_count": 4,
   "id": "8a643bde-981d-41a5-93a1-273db4a1acb5",
   "metadata": {
    "tags": []
   },
   "outputs": [],
   "source": [
    "from vertexai.generative_models import GenerativeModel\n",
    "\n",
    "model = GenerativeModel(\"gemini-1.5-pro-001\")"
   ]
  },
  {
   "cell_type": "markdown",
   "id": "aa005eeb",
   "metadata": {},
   "source": [
    "3.2 결과 확인"
   ]
  },
  {
   "cell_type": "code",
   "execution_count": null,
   "id": "47493979",
   "metadata": {},
   "outputs": [],
   "source": [
    "content=\"gemini에 대해 설명해 줘\""
   ]
  },
  {
   "cell_type": "code",
   "execution_count": null,
   "id": "67bddb48",
   "metadata": {},
   "outputs": [],
   "source": [
    "response = model.generate_content(content)\n",
    "print(response.text)"
   ]
  },
  {
   "cell_type": "markdown",
   "id": "221de066",
   "metadata": {},
   "source": [
    "3.3 stream 적용"
   ]
  },
  {
   "cell_type": "code",
   "execution_count": null,
   "id": "c4242c87-9d67-4fec-a1fa-c21760761678",
   "metadata": {
    "tags": []
   },
   "outputs": [],
   "source": [
    "responses= model.generate_content(content, stream=True)\n",
    "\n",
    "for res in responses:\n",
    "    print(res.text)"
   ]
  },
  {
   "cell_type": "code",
   "execution_count": null,
   "id": "e653499c-cabf-41a1-9e06-62648b513170",
   "metadata": {},
   "outputs": [],
   "source": [
    "responses= model.generate_content(content, stream=True)\n",
    "\n",
    "for res in responses:\n",
    "    print(res.text, end=\"\")"
   ]
  }
 ],
 "metadata": {
  "environment": {
   "kernel": "conda-base-py",
   "name": "workbench-notebooks.m126",
   "type": "gcloud",
   "uri": "us-docker.pkg.dev/deeplearning-platform-release/gcr.io/workbench-notebooks:m126"
  },
  "kernelspec": {
   "display_name": "Python 3 (ipykernel) (Local)",
   "language": "python",
   "name": "conda-base-py"
  },
  "language_info": {
   "codemirror_mode": {
    "name": "ipython",
    "version": 3
   },
   "file_extension": ".py",
   "mimetype": "text/x-python",
   "name": "python",
   "nbconvert_exporter": "python",
   "pygments_lexer": "ipython3",
   "version": "3.10.15"
  }
 },
 "nbformat": 4,
 "nbformat_minor": 5
}
